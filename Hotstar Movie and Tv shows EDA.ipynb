{
 "cells": [
  {
   "cell_type": "markdown",
   "id": "b6b3d1c4",
   "metadata": {},
   "source": [
    "# Importing useful libraries"
   ]
  },
  {
   "cell_type": "code",
   "execution_count": 1,
   "id": "a9cfd8c5",
   "metadata": {},
   "outputs": [],
   "source": [
    "import pandas as pd\n",
    "import numpy as np\n",
    "import seaborn as sns\n",
    "import matplotlib.pyplot as plt\n",
    "%matplotlib inline\n",
    "import warnings\n",
    "warnings.filterwarnings(\"ignore\")"
   ]
  },
  {
   "cell_type": "code",
   "execution_count": 2,
   "id": "948edfba",
   "metadata": {},
   "outputs": [],
   "source": [
    "#Reading the file\n",
    "df=pd.read_csv(\"hotstar.csv\")"
   ]
  },
  {
   "cell_type": "code",
   "execution_count": 3,
   "id": "837c5f62",
   "metadata": {},
   "outputs": [
    {
     "data": {
      "text/html": [
       "<div>\n",
       "<style scoped>\n",
       "    .dataframe tbody tr th:only-of-type {\n",
       "        vertical-align: middle;\n",
       "    }\n",
       "\n",
       "    .dataframe tbody tr th {\n",
       "        vertical-align: top;\n",
       "    }\n",
       "\n",
       "    .dataframe thead th {\n",
       "        text-align: right;\n",
       "    }\n",
       "</style>\n",
       "<table border=\"1\" class=\"dataframe\">\n",
       "  <thead>\n",
       "    <tr style=\"text-align: right;\">\n",
       "      <th></th>\n",
       "      <th>hotstar_id</th>\n",
       "      <th>title</th>\n",
       "      <th>description</th>\n",
       "      <th>genre</th>\n",
       "      <th>year</th>\n",
       "      <th>age_rating</th>\n",
       "      <th>running_time</th>\n",
       "      <th>seasons</th>\n",
       "      <th>episodes</th>\n",
       "      <th>type</th>\n",
       "    </tr>\n",
       "  </thead>\n",
       "  <tbody>\n",
       "    <tr>\n",
       "      <th>0</th>\n",
       "      <td>1835064133</td>\n",
       "      <td>The Ring</td>\n",
       "      <td>Mutually divorced Aman emotionally struggles t...</td>\n",
       "      <td>Drama</td>\n",
       "      <td>2021</td>\n",
       "      <td>U/A 13+</td>\n",
       "      <td>17.0</td>\n",
       "      <td>NaN</td>\n",
       "      <td>NaN</td>\n",
       "      <td>movie</td>\n",
       "    </tr>\n",
       "    <tr>\n",
       "      <th>1</th>\n",
       "      <td>1260015636</td>\n",
       "      <td>Jesus: Rise To Power And Birth Of Christianity</td>\n",
       "      <td>A journey across the historic landscapes of th...</td>\n",
       "      <td>Documentary</td>\n",
       "      <td>2019</td>\n",
       "      <td>U/A 13+</td>\n",
       "      <td>42.0</td>\n",
       "      <td>NaN</td>\n",
       "      <td>NaN</td>\n",
       "      <td>movie</td>\n",
       "    </tr>\n",
       "    <tr>\n",
       "      <th>2</th>\n",
       "      <td>1000070418</td>\n",
       "      <td>Yama Muduru</td>\n",
       "      <td>Krishna Kumar is popular in college for his mu...</td>\n",
       "      <td>Drama</td>\n",
       "      <td>2009</td>\n",
       "      <td>U/A 13+</td>\n",
       "      <td>129.0</td>\n",
       "      <td>NaN</td>\n",
       "      <td>NaN</td>\n",
       "      <td>movie</td>\n",
       "    </tr>\n",
       "    <tr>\n",
       "      <th>3</th>\n",
       "      <td>1770000804</td>\n",
       "      <td>X-Men: The Last Stand</td>\n",
       "      <td>When humans find a cure for mutation, Professo...</td>\n",
       "      <td>Superhero</td>\n",
       "      <td>2006</td>\n",
       "      <td>U/A 13+</td>\n",
       "      <td>103.0</td>\n",
       "      <td>NaN</td>\n",
       "      <td>NaN</td>\n",
       "      <td>movie</td>\n",
       "    </tr>\n",
       "    <tr>\n",
       "      <th>4</th>\n",
       "      <td>1770005017</td>\n",
       "      <td>Mangalyaan: India's Mission To Mars</td>\n",
       "      <td>In this special, watch the 650 million km jour...</td>\n",
       "      <td>Documentary</td>\n",
       "      <td>2017</td>\n",
       "      <td>U</td>\n",
       "      <td>44.0</td>\n",
       "      <td>NaN</td>\n",
       "      <td>NaN</td>\n",
       "      <td>movie</td>\n",
       "    </tr>\n",
       "  </tbody>\n",
       "</table>\n",
       "</div>"
      ],
      "text/plain": [
       "   hotstar_id                                           title  \\\n",
       "0  1835064133                                        The Ring   \n",
       "1  1260015636  Jesus: Rise To Power And Birth Of Christianity   \n",
       "2  1000070418                                     Yama Muduru   \n",
       "3  1770000804                           X-Men: The Last Stand   \n",
       "4  1770005017             Mangalyaan: India's Mission To Mars   \n",
       "\n",
       "                                         description        genre  year  \\\n",
       "0  Mutually divorced Aman emotionally struggles t...        Drama  2021   \n",
       "1  A journey across the historic landscapes of th...  Documentary  2019   \n",
       "2  Krishna Kumar is popular in college for his mu...        Drama  2009   \n",
       "3  When humans find a cure for mutation, Professo...    Superhero  2006   \n",
       "4  In this special, watch the 650 million km jour...  Documentary  2017   \n",
       "\n",
       "  age_rating  running_time  seasons  episodes   type  \n",
       "0    U/A 13+          17.0      NaN       NaN  movie  \n",
       "1    U/A 13+          42.0      NaN       NaN  movie  \n",
       "2    U/A 13+         129.0      NaN       NaN  movie  \n",
       "3    U/A 13+         103.0      NaN       NaN  movie  \n",
       "4          U          44.0      NaN       NaN  movie  "
      ]
     },
     "execution_count": 3,
     "metadata": {},
     "output_type": "execute_result"
    }
   ],
   "source": [
    "#First 5 Records in a data.\n",
    "df.head()"
   ]
  },
  {
   "cell_type": "code",
   "execution_count": 4,
   "id": "6e0ded74",
   "metadata": {},
   "outputs": [
    {
     "data": {
      "text/plain": [
       "(6359, 10)"
      ]
     },
     "execution_count": 4,
     "metadata": {},
     "output_type": "execute_result"
    }
   ],
   "source": [
    "df.shape\n",
    "#There are total 6359 Rows and 10 Columns"
   ]
  },
  {
   "cell_type": "markdown",
   "id": "128ab614",
   "metadata": {},
   "source": [
    "# Movie Type that are listed on Hotstar"
   ]
  },
  {
   "cell_type": "code",
   "execution_count": 5,
   "id": "c395a480",
   "metadata": {},
   "outputs": [],
   "source": [
    "g=df.groupby(\"type\")"
   ]
  },
  {
   "cell_type": "code",
   "execution_count": 6,
   "id": "cfe653a9",
   "metadata": {},
   "outputs": [],
   "source": [
    "movie_shows=g.get_group(\"movie\")"
   ]
  },
  {
   "cell_type": "code",
   "execution_count": 7,
   "id": "9b7c67a2",
   "metadata": {},
   "outputs": [
    {
     "data": {
      "text/html": [
       "<div>\n",
       "<style scoped>\n",
       "    .dataframe tbody tr th:only-of-type {\n",
       "        vertical-align: middle;\n",
       "    }\n",
       "\n",
       "    .dataframe tbody tr th {\n",
       "        vertical-align: top;\n",
       "    }\n",
       "\n",
       "    .dataframe thead th {\n",
       "        text-align: right;\n",
       "    }\n",
       "</style>\n",
       "<table border=\"1\" class=\"dataframe\">\n",
       "  <thead>\n",
       "    <tr style=\"text-align: right;\">\n",
       "      <th></th>\n",
       "      <th>hotstar_id</th>\n",
       "      <th>title</th>\n",
       "      <th>description</th>\n",
       "      <th>genre</th>\n",
       "      <th>year</th>\n",
       "      <th>age_rating</th>\n",
       "      <th>running_time</th>\n",
       "      <th>seasons</th>\n",
       "      <th>episodes</th>\n",
       "      <th>type</th>\n",
       "    </tr>\n",
       "  </thead>\n",
       "  <tbody>\n",
       "    <tr>\n",
       "      <th>0</th>\n",
       "      <td>1835064133</td>\n",
       "      <td>The Ring</td>\n",
       "      <td>Mutually divorced Aman emotionally struggles t...</td>\n",
       "      <td>Drama</td>\n",
       "      <td>2021</td>\n",
       "      <td>U/A 13+</td>\n",
       "      <td>17.0</td>\n",
       "      <td>NaN</td>\n",
       "      <td>NaN</td>\n",
       "      <td>movie</td>\n",
       "    </tr>\n",
       "    <tr>\n",
       "      <th>1</th>\n",
       "      <td>1260015636</td>\n",
       "      <td>Jesus: Rise To Power And Birth Of Christianity</td>\n",
       "      <td>A journey across the historic landscapes of th...</td>\n",
       "      <td>Documentary</td>\n",
       "      <td>2019</td>\n",
       "      <td>U/A 13+</td>\n",
       "      <td>42.0</td>\n",
       "      <td>NaN</td>\n",
       "      <td>NaN</td>\n",
       "      <td>movie</td>\n",
       "    </tr>\n",
       "    <tr>\n",
       "      <th>2</th>\n",
       "      <td>1000070418</td>\n",
       "      <td>Yama Muduru</td>\n",
       "      <td>Krishna Kumar is popular in college for his mu...</td>\n",
       "      <td>Drama</td>\n",
       "      <td>2009</td>\n",
       "      <td>U/A 13+</td>\n",
       "      <td>129.0</td>\n",
       "      <td>NaN</td>\n",
       "      <td>NaN</td>\n",
       "      <td>movie</td>\n",
       "    </tr>\n",
       "    <tr>\n",
       "      <th>3</th>\n",
       "      <td>1770000804</td>\n",
       "      <td>X-Men: The Last Stand</td>\n",
       "      <td>When humans find a cure for mutation, Professo...</td>\n",
       "      <td>Superhero</td>\n",
       "      <td>2006</td>\n",
       "      <td>U/A 13+</td>\n",
       "      <td>103.0</td>\n",
       "      <td>NaN</td>\n",
       "      <td>NaN</td>\n",
       "      <td>movie</td>\n",
       "    </tr>\n",
       "    <tr>\n",
       "      <th>4</th>\n",
       "      <td>1770005017</td>\n",
       "      <td>Mangalyaan: India's Mission To Mars</td>\n",
       "      <td>In this special, watch the 650 million km jour...</td>\n",
       "      <td>Documentary</td>\n",
       "      <td>2017</td>\n",
       "      <td>U</td>\n",
       "      <td>44.0</td>\n",
       "      <td>NaN</td>\n",
       "      <td>NaN</td>\n",
       "      <td>movie</td>\n",
       "    </tr>\n",
       "    <tr>\n",
       "      <th>...</th>\n",
       "      <td>...</td>\n",
       "      <td>...</td>\n",
       "      <td>...</td>\n",
       "      <td>...</td>\n",
       "      <td>...</td>\n",
       "      <td>...</td>\n",
       "      <td>...</td>\n",
       "      <td>...</td>\n",
       "      <td>...</td>\n",
       "      <td>...</td>\n",
       "    </tr>\n",
       "    <tr>\n",
       "      <th>4183</th>\n",
       "      <td>1000104370</td>\n",
       "      <td>Achan Kompathu Amma Varampathu</td>\n",
       "      <td>When their children abandon them, life for Mur...</td>\n",
       "      <td>Drama</td>\n",
       "      <td>1995</td>\n",
       "      <td>U/A 7+</td>\n",
       "      <td>154.0</td>\n",
       "      <td>NaN</td>\n",
       "      <td>NaN</td>\n",
       "      <td>movie</td>\n",
       "    </tr>\n",
       "    <tr>\n",
       "      <th>4184</th>\n",
       "      <td>1000058491</td>\n",
       "      <td>Maan Karate</td>\n",
       "      <td>A seer meets a few IT employees and predicts t...</td>\n",
       "      <td>Comedy</td>\n",
       "      <td>2014</td>\n",
       "      <td>U</td>\n",
       "      <td>143.0</td>\n",
       "      <td>NaN</td>\n",
       "      <td>NaN</td>\n",
       "      <td>movie</td>\n",
       "    </tr>\n",
       "    <tr>\n",
       "      <th>4185</th>\n",
       "      <td>1000108138</td>\n",
       "      <td>My Dear Kuttichathan</td>\n",
       "      <td>A black magician enslaves a spirit but soon, a...</td>\n",
       "      <td>Kids</td>\n",
       "      <td>1984</td>\n",
       "      <td>U/A 7+</td>\n",
       "      <td>95.0</td>\n",
       "      <td>NaN</td>\n",
       "      <td>NaN</td>\n",
       "      <td>movie</td>\n",
       "    </tr>\n",
       "    <tr>\n",
       "      <th>4186</th>\n",
       "      <td>1260048639</td>\n",
       "      <td>folklore: the long pond studio sessions</td>\n",
       "      <td>An intimate musical concert featuring Taylor S...</td>\n",
       "      <td>Documentary</td>\n",
       "      <td>2020</td>\n",
       "      <td>U/A 16+</td>\n",
       "      <td>106.0</td>\n",
       "      <td>NaN</td>\n",
       "      <td>NaN</td>\n",
       "      <td>movie</td>\n",
       "    </tr>\n",
       "    <tr>\n",
       "      <th>4187</th>\n",
       "      <td>1000097395</td>\n",
       "      <td>Nanna Olavina Banna</td>\n",
       "      <td>An aspiring artist joins an art school in the ...</td>\n",
       "      <td>Romance</td>\n",
       "      <td>2010</td>\n",
       "      <td>U/A 13+</td>\n",
       "      <td>137.0</td>\n",
       "      <td>NaN</td>\n",
       "      <td>NaN</td>\n",
       "      <td>movie</td>\n",
       "    </tr>\n",
       "  </tbody>\n",
       "</table>\n",
       "<p>4188 rows × 10 columns</p>\n",
       "</div>"
      ],
      "text/plain": [
       "      hotstar_id                                           title  \\\n",
       "0     1835064133                                        The Ring   \n",
       "1     1260015636  Jesus: Rise To Power And Birth Of Christianity   \n",
       "2     1000070418                                     Yama Muduru   \n",
       "3     1770000804                           X-Men: The Last Stand   \n",
       "4     1770005017             Mangalyaan: India's Mission To Mars   \n",
       "...          ...                                             ...   \n",
       "4183  1000104370                  Achan Kompathu Amma Varampathu   \n",
       "4184  1000058491                                     Maan Karate   \n",
       "4185  1000108138                            My Dear Kuttichathan   \n",
       "4186  1260048639         folklore: the long pond studio sessions   \n",
       "4187  1000097395                             Nanna Olavina Banna   \n",
       "\n",
       "                                            description        genre  year  \\\n",
       "0     Mutually divorced Aman emotionally struggles t...        Drama  2021   \n",
       "1     A journey across the historic landscapes of th...  Documentary  2019   \n",
       "2     Krishna Kumar is popular in college for his mu...        Drama  2009   \n",
       "3     When humans find a cure for mutation, Professo...    Superhero  2006   \n",
       "4     In this special, watch the 650 million km jour...  Documentary  2017   \n",
       "...                                                 ...          ...   ...   \n",
       "4183  When their children abandon them, life for Mur...        Drama  1995   \n",
       "4184  A seer meets a few IT employees and predicts t...       Comedy  2014   \n",
       "4185  A black magician enslaves a spirit but soon, a...         Kids  1984   \n",
       "4186  An intimate musical concert featuring Taylor S...  Documentary  2020   \n",
       "4187  An aspiring artist joins an art school in the ...      Romance  2010   \n",
       "\n",
       "     age_rating  running_time  seasons  episodes   type  \n",
       "0       U/A 13+          17.0      NaN       NaN  movie  \n",
       "1       U/A 13+          42.0      NaN       NaN  movie  \n",
       "2       U/A 13+         129.0      NaN       NaN  movie  \n",
       "3       U/A 13+         103.0      NaN       NaN  movie  \n",
       "4             U          44.0      NaN       NaN  movie  \n",
       "...         ...           ...      ...       ...    ...  \n",
       "4183     U/A 7+         154.0      NaN       NaN  movie  \n",
       "4184          U         143.0      NaN       NaN  movie  \n",
       "4185     U/A 7+          95.0      NaN       NaN  movie  \n",
       "4186    U/A 16+         106.0      NaN       NaN  movie  \n",
       "4187    U/A 13+         137.0      NaN       NaN  movie  \n",
       "\n",
       "[4188 rows x 10 columns]"
      ]
     },
     "execution_count": 7,
     "metadata": {},
     "output_type": "execute_result"
    }
   ],
   "source": [
    "movie_shows\n",
    "#There are total 4188 movies listed on hotstar"
   ]
  },
  {
   "cell_type": "code",
   "execution_count": 8,
   "id": "7ce53084",
   "metadata": {},
   "outputs": [
    {
     "data": {
      "text/plain": [
       "hotstar_id        0.0\n",
       "title             0.0\n",
       "description       0.0\n",
       "genre             0.0\n",
       "year              0.0\n",
       "age_rating        0.0\n",
       "running_time      0.0\n",
       "seasons         100.0\n",
       "episodes        100.0\n",
       "type              0.0\n",
       "dtype: float64"
      ]
     },
     "execution_count": 8,
     "metadata": {},
     "output_type": "execute_result"
    }
   ],
   "source": [
    "#Finding Null value\n",
    "movie_shows.isnull().sum()/len(movie_shows)*100"
   ]
  },
  {
   "cell_type": "code",
   "execution_count": 9,
   "id": "b3bce4fb",
   "metadata": {},
   "outputs": [],
   "source": [
    "#Droping the Column which has more than 50% of null value\n",
    "movie_shows.drop([\"seasons\",\"episodes\"],axis=1,inplace=True)"
   ]
  },
  {
   "cell_type": "code",
   "execution_count": 10,
   "id": "81475067",
   "metadata": {},
   "outputs": [
    {
     "data": {
      "text/html": [
       "<div>\n",
       "<style scoped>\n",
       "    .dataframe tbody tr th:only-of-type {\n",
       "        vertical-align: middle;\n",
       "    }\n",
       "\n",
       "    .dataframe tbody tr th {\n",
       "        vertical-align: top;\n",
       "    }\n",
       "\n",
       "    .dataframe thead th {\n",
       "        text-align: right;\n",
       "    }\n",
       "</style>\n",
       "<table border=\"1\" class=\"dataframe\">\n",
       "  <thead>\n",
       "    <tr style=\"text-align: right;\">\n",
       "      <th></th>\n",
       "      <th>hotstar_id</th>\n",
       "      <th>title</th>\n",
       "      <th>description</th>\n",
       "      <th>genre</th>\n",
       "      <th>year</th>\n",
       "      <th>age_rating</th>\n",
       "      <th>running_time</th>\n",
       "      <th>type</th>\n",
       "    </tr>\n",
       "  </thead>\n",
       "  <tbody>\n",
       "    <tr>\n",
       "      <th>0</th>\n",
       "      <td>1835064133</td>\n",
       "      <td>The Ring</td>\n",
       "      <td>Mutually divorced Aman emotionally struggles t...</td>\n",
       "      <td>Drama</td>\n",
       "      <td>2021</td>\n",
       "      <td>U/A 13+</td>\n",
       "      <td>17.0</td>\n",
       "      <td>movie</td>\n",
       "    </tr>\n",
       "    <tr>\n",
       "      <th>1</th>\n",
       "      <td>1260015636</td>\n",
       "      <td>Jesus: Rise To Power And Birth Of Christianity</td>\n",
       "      <td>A journey across the historic landscapes of th...</td>\n",
       "      <td>Documentary</td>\n",
       "      <td>2019</td>\n",
       "      <td>U/A 13+</td>\n",
       "      <td>42.0</td>\n",
       "      <td>movie</td>\n",
       "    </tr>\n",
       "    <tr>\n",
       "      <th>2</th>\n",
       "      <td>1000070418</td>\n",
       "      <td>Yama Muduru</td>\n",
       "      <td>Krishna Kumar is popular in college for his mu...</td>\n",
       "      <td>Drama</td>\n",
       "      <td>2009</td>\n",
       "      <td>U/A 13+</td>\n",
       "      <td>129.0</td>\n",
       "      <td>movie</td>\n",
       "    </tr>\n",
       "    <tr>\n",
       "      <th>3</th>\n",
       "      <td>1770000804</td>\n",
       "      <td>X-Men: The Last Stand</td>\n",
       "      <td>When humans find a cure for mutation, Professo...</td>\n",
       "      <td>Superhero</td>\n",
       "      <td>2006</td>\n",
       "      <td>U/A 13+</td>\n",
       "      <td>103.0</td>\n",
       "      <td>movie</td>\n",
       "    </tr>\n",
       "    <tr>\n",
       "      <th>4</th>\n",
       "      <td>1770005017</td>\n",
       "      <td>Mangalyaan: India's Mission To Mars</td>\n",
       "      <td>In this special, watch the 650 million km jour...</td>\n",
       "      <td>Documentary</td>\n",
       "      <td>2017</td>\n",
       "      <td>U</td>\n",
       "      <td>44.0</td>\n",
       "      <td>movie</td>\n",
       "    </tr>\n",
       "    <tr>\n",
       "      <th>...</th>\n",
       "      <td>...</td>\n",
       "      <td>...</td>\n",
       "      <td>...</td>\n",
       "      <td>...</td>\n",
       "      <td>...</td>\n",
       "      <td>...</td>\n",
       "      <td>...</td>\n",
       "      <td>...</td>\n",
       "    </tr>\n",
       "    <tr>\n",
       "      <th>4183</th>\n",
       "      <td>1000104370</td>\n",
       "      <td>Achan Kompathu Amma Varampathu</td>\n",
       "      <td>When their children abandon them, life for Mur...</td>\n",
       "      <td>Drama</td>\n",
       "      <td>1995</td>\n",
       "      <td>U/A 7+</td>\n",
       "      <td>154.0</td>\n",
       "      <td>movie</td>\n",
       "    </tr>\n",
       "    <tr>\n",
       "      <th>4184</th>\n",
       "      <td>1000058491</td>\n",
       "      <td>Maan Karate</td>\n",
       "      <td>A seer meets a few IT employees and predicts t...</td>\n",
       "      <td>Comedy</td>\n",
       "      <td>2014</td>\n",
       "      <td>U</td>\n",
       "      <td>143.0</td>\n",
       "      <td>movie</td>\n",
       "    </tr>\n",
       "    <tr>\n",
       "      <th>4185</th>\n",
       "      <td>1000108138</td>\n",
       "      <td>My Dear Kuttichathan</td>\n",
       "      <td>A black magician enslaves a spirit but soon, a...</td>\n",
       "      <td>Kids</td>\n",
       "      <td>1984</td>\n",
       "      <td>U/A 7+</td>\n",
       "      <td>95.0</td>\n",
       "      <td>movie</td>\n",
       "    </tr>\n",
       "    <tr>\n",
       "      <th>4186</th>\n",
       "      <td>1260048639</td>\n",
       "      <td>folklore: the long pond studio sessions</td>\n",
       "      <td>An intimate musical concert featuring Taylor S...</td>\n",
       "      <td>Documentary</td>\n",
       "      <td>2020</td>\n",
       "      <td>U/A 16+</td>\n",
       "      <td>106.0</td>\n",
       "      <td>movie</td>\n",
       "    </tr>\n",
       "    <tr>\n",
       "      <th>4187</th>\n",
       "      <td>1000097395</td>\n",
       "      <td>Nanna Olavina Banna</td>\n",
       "      <td>An aspiring artist joins an art school in the ...</td>\n",
       "      <td>Romance</td>\n",
       "      <td>2010</td>\n",
       "      <td>U/A 13+</td>\n",
       "      <td>137.0</td>\n",
       "      <td>movie</td>\n",
       "    </tr>\n",
       "  </tbody>\n",
       "</table>\n",
       "<p>4188 rows × 8 columns</p>\n",
       "</div>"
      ],
      "text/plain": [
       "      hotstar_id                                           title  \\\n",
       "0     1835064133                                        The Ring   \n",
       "1     1260015636  Jesus: Rise To Power And Birth Of Christianity   \n",
       "2     1000070418                                     Yama Muduru   \n",
       "3     1770000804                           X-Men: The Last Stand   \n",
       "4     1770005017             Mangalyaan: India's Mission To Mars   \n",
       "...          ...                                             ...   \n",
       "4183  1000104370                  Achan Kompathu Amma Varampathu   \n",
       "4184  1000058491                                     Maan Karate   \n",
       "4185  1000108138                            My Dear Kuttichathan   \n",
       "4186  1260048639         folklore: the long pond studio sessions   \n",
       "4187  1000097395                             Nanna Olavina Banna   \n",
       "\n",
       "                                            description        genre  year  \\\n",
       "0     Mutually divorced Aman emotionally struggles t...        Drama  2021   \n",
       "1     A journey across the historic landscapes of th...  Documentary  2019   \n",
       "2     Krishna Kumar is popular in college for his mu...        Drama  2009   \n",
       "3     When humans find a cure for mutation, Professo...    Superhero  2006   \n",
       "4     In this special, watch the 650 million km jour...  Documentary  2017   \n",
       "...                                                 ...          ...   ...   \n",
       "4183  When their children abandon them, life for Mur...        Drama  1995   \n",
       "4184  A seer meets a few IT employees and predicts t...       Comedy  2014   \n",
       "4185  A black magician enslaves a spirit but soon, a...         Kids  1984   \n",
       "4186  An intimate musical concert featuring Taylor S...  Documentary  2020   \n",
       "4187  An aspiring artist joins an art school in the ...      Romance  2010   \n",
       "\n",
       "     age_rating  running_time   type  \n",
       "0       U/A 13+          17.0  movie  \n",
       "1       U/A 13+          42.0  movie  \n",
       "2       U/A 13+         129.0  movie  \n",
       "3       U/A 13+         103.0  movie  \n",
       "4             U          44.0  movie  \n",
       "...         ...           ...    ...  \n",
       "4183     U/A 7+         154.0  movie  \n",
       "4184          U         143.0  movie  \n",
       "4185     U/A 7+          95.0  movie  \n",
       "4186    U/A 16+         106.0  movie  \n",
       "4187    U/A 13+         137.0  movie  \n",
       "\n",
       "[4188 rows x 8 columns]"
      ]
     },
     "execution_count": 10,
     "metadata": {},
     "output_type": "execute_result"
    }
   ],
   "source": [
    "movie_shows"
   ]
  },
  {
   "cell_type": "code",
   "execution_count": 11,
   "id": "6fdf418f",
   "metadata": {},
   "outputs": [
    {
     "data": {
      "text/plain": [
       "array(['U/A 13+', 'U', 'U/A 7+', 'U/A 16+', 'A'], dtype=object)"
      ]
     },
     "execution_count": 11,
     "metadata": {},
     "output_type": "execute_result"
    }
   ],
   "source": [
    "#Finding the unique age_rating\n",
    "movie_shows.age_rating.unique()"
   ]
  },
  {
   "cell_type": "markdown",
   "id": "28024ce5",
   "metadata": {},
   "source": [
    "# Cleaning age_rating column "
   ]
  },
  {
   "cell_type": "code",
   "execution_count": 12,
   "id": "66f297ab",
   "metadata": {},
   "outputs": [],
   "source": [
    "movie_shows[\"age_rating\"]=movie_shows[\"age_rating\"].str.replace(\"+\",\"\")"
   ]
  },
  {
   "cell_type": "code",
   "execution_count": 13,
   "id": "662008b5",
   "metadata": {},
   "outputs": [
    {
     "data": {
      "text/plain": [
       "array(['U/A 13', 'U', 'U/A 7', 'U/A 16', 'A'], dtype=object)"
      ]
     },
     "execution_count": 13,
     "metadata": {},
     "output_type": "execute_result"
    }
   ],
   "source": [
    "movie_shows.age_rating.unique()"
   ]
  },
  {
   "cell_type": "code",
   "execution_count": 14,
   "id": "c46d5bc6",
   "metadata": {},
   "outputs": [],
   "source": [
    "movie_shows[\"age_rating\"]=movie_shows[\"age_rating\"].str.replace(\"U/A\",\"\")"
   ]
  },
  {
   "cell_type": "code",
   "execution_count": 15,
   "id": "4bbf9cba",
   "metadata": {},
   "outputs": [
    {
     "data": {
      "text/plain": [
       "array([' 13', 'U', ' 7', ' 16', 'A'], dtype=object)"
      ]
     },
     "execution_count": 15,
     "metadata": {},
     "output_type": "execute_result"
    }
   ],
   "source": [
    "movie_shows.age_rating.unique()"
   ]
  },
  {
   "cell_type": "code",
   "execution_count": 16,
   "id": "1c2e9325",
   "metadata": {},
   "outputs": [],
   "source": [
    "movie_shows[\"age_rating\"]=movie_shows[\"age_rating\"].str.replace(\"U\",\"4\")"
   ]
  },
  {
   "cell_type": "code",
   "execution_count": 17,
   "id": "65d22961",
   "metadata": {},
   "outputs": [],
   "source": [
    "movie_shows[\"age_rating\"]=movie_shows[\"age_rating\"].str.replace(\"A\",\"18\")"
   ]
  },
  {
   "cell_type": "code",
   "execution_count": 18,
   "id": "48f709a2",
   "metadata": {},
   "outputs": [],
   "source": [
    "#Converting object datatype into integer\n",
    "movie_shows[\"age_rating\"]=movie_shows[\"age_rating\"].astype(\"int\")"
   ]
  },
  {
   "cell_type": "code",
   "execution_count": 19,
   "id": "4548b97e",
   "metadata": {},
   "outputs": [
    {
     "data": {
      "text/plain": [
       "array([13,  4,  7, 16, 18])"
      ]
     },
     "execution_count": 19,
     "metadata": {},
     "output_type": "execute_result"
    }
   ],
   "source": [
    "movie_shows.age_rating.unique()"
   ]
  },
  {
   "cell_type": "code",
   "execution_count": 20,
   "id": "36c7c10f",
   "metadata": {},
   "outputs": [
    {
     "data": {
      "image/png": "[encoded data removed]",
      "text/plain": [
       "<Figure size 432x288 with 1 Axes>"
      ]
     },
     "metadata": {},
     "output_type": "display_data"
    }
   ],
   "source": [
    "movie_shows[\"age_rating\"].value_counts().plot.pie(autopct=\"%1.2f%%\",explode=[0.1,0,0,0,0],radius=1.5)\n",
    "plt.show()"
   ]
  },
  {
   "cell_type": "markdown",
   "id": "2b14d647",
   "metadata": {},
   "source": [
    "From the pie chart we can conclude that there are 39.52% of movie are listed for age group of 13.\n",
    "And only 3.53% of movie are listed for Adult, i.e for age group above 18."
   ]
  },
  {
   "cell_type": "code",
   "execution_count": 21,
   "id": "c0fb205c",
   "metadata": {},
   "outputs": [
    {
     "data": {
      "image/png": "[encoded data removed]",
      "text/plain": [
       "<Figure size 1080x720 with 1 Axes>"
      ]
     },
     "metadata": {
      "needs_background": "light"
     },
     "output_type": "display_data"
    },
    {
     "name": "stdout",
     "output_type": "stream",
     "text": [
      "TOP 10 MOVIE TYPE LISTED ON HOTSTAR\n",
      " Drama               1355\n",
      "Action               535\n",
      "Comedy               503\n",
      "Romance              467\n",
      "Thriller             274\n",
      "Animation            221\n",
      "Family               147\n",
      "Documentary          124\n",
      "Horror                82\n",
      "Animals & Nature      53\n",
      "Name: genre, dtype: int64\n"
     ]
    }
   ],
   "source": [
    "plt.figure(figsize=(15,10))\n",
    "sns.countplot(\"genre\",data=movie_shows)\n",
    "plt.xlabel(\"Types of Movie\")\n",
    "plt.ylabel(\"Count of Movies\")\n",
    "plt.title(\"Total no.of movies with there types\")\n",
    "plt.xticks(rotation=90)\n",
    "plt.show()\n",
    "\n",
    "print(\"TOP 10 MOVIE TYPE LISTED ON HOTSTAR\\n\",movie_shows[\"genre\"].value_counts().nlargest(10))"
   ]
  },
  {
   "cell_type": "markdown",
   "id": "600ab7db",
   "metadata": {},
   "source": [
    "# Movie type age wise"
   ]
  },
  {
   "cell_type": "code",
   "execution_count": 22,
   "id": "1f808f56",
   "metadata": {},
   "outputs": [],
   "source": [
    "age=movie_shows.groupby(\"age_rating\")"
   ]
  },
  {
   "cell_type": "code",
   "execution_count": 23,
   "id": "02e6d249",
   "metadata": {},
   "outputs": [
    {
     "data": {
      "text/plain": [
       "array([13,  4,  7, 16, 18])"
      ]
     },
     "execution_count": 23,
     "metadata": {},
     "output_type": "execute_result"
    }
   ],
   "source": [
    "movie_shows.age_rating.unique()"
   ]
  },
  {
   "cell_type": "code",
   "execution_count": 24,
   "id": "99ccc9d9",
   "metadata": {},
   "outputs": [],
   "source": [
    "age_4=age.get_group(4)"
   ]
  },
  {
   "cell_type": "code",
   "execution_count": 25,
   "id": "35223645",
   "metadata": {},
   "outputs": [
    {
     "data": {
      "image/png": "[encoded data removed]",
      "text/plain": [
       "<Figure size 1080x720 with 1 Axes>"
      ]
     },
     "metadata": {
      "needs_background": "light"
     },
     "output_type": "display_data"
    },
    {
     "name": "stdout",
     "output_type": "stream",
     "text": [
      "For age group of 4 there are total 855 Movie listed on hotstar.\n",
      "\n",
      "Top 5 Category are\n",
      " Drama        261\n",
      "Animation    172\n",
      "Romance      116\n",
      "Comedy        89\n",
      "Family        52\n",
      "Name: genre, dtype: int64\n"
     ]
    }
   ],
   "source": [
    "plt.figure(figsize=(15,10))\n",
    "sns.countplot(age_4[\"genre\"])\n",
    "plt.xticks(rotation=90)\n",
    "plt.show()\n",
    "\n",
    "print(\"For age group of 4 there are total\",age_4[\"genre\"].count(),\"Movie listed on hotstar.\\n\")\n",
    "print(\"Top 5 Category are\\n\",age_4[\"genre\"].value_counts().nlargest(5))"
   ]
  },
  {
   "cell_type": "code",
   "execution_count": 26,
   "id": "54413a12",
   "metadata": {},
   "outputs": [],
   "source": [
    "age_7=age.get_group(7)"
   ]
  },
  {
   "cell_type": "code",
   "execution_count": 27,
   "id": "779e2812",
   "metadata": {},
   "outputs": [
    {
     "data": {
      "image/png": "[encoded data removed]",
      "text/plain": [
       "<Figure size 1080x720 with 1 Axes>"
      ]
     },
     "metadata": {
      "needs_background": "light"
     },
     "output_type": "display_data"
    },
    {
     "name": "stdout",
     "output_type": "stream",
     "text": [
      "For age group of 7 there are total 728 Movie listed on hotstar.\n",
      "\n",
      "Top 5 Category are\n",
      " Drama        210\n",
      "Comedy       144\n",
      "Romance       63\n",
      "Family        51\n",
      "Animation     46\n",
      "Name: genre, dtype: int64\n"
     ]
    }
   ],
   "source": [
    "plt.figure(figsize=(15,10))\n",
    "sns.countplot(age_7[\"genre\"])\n",
    "plt.xticks(rotation=90)\n",
    "plt.show()\n",
    "\n",
    "print(\"For age group of 7 there are total\",age_7[\"genre\"].count(),\"Movie listed on hotstar.\\n\")\n",
    "print(\"Top 5 Category are\\n\",age_7[\"genre\"].value_counts().nlargest(5))"
   ]
  },
  {
   "cell_type": "code",
   "execution_count": 28,
   "id": "93c3a833",
   "metadata": {},
   "outputs": [],
   "source": [
    "age_13=age.get_group(13)"
   ]
  },
  {
   "cell_type": "code",
   "execution_count": 29,
   "id": "ef18fdcc",
   "metadata": {},
   "outputs": [
    {
     "data": {
      "image/png": "[encoded data removed]",
      "text/plain": [
       "<Figure size 1080x720 with 1 Axes>"
      ]
     },
     "metadata": {
      "needs_background": "light"
     },
     "output_type": "display_data"
    },
    {
     "name": "stdout",
     "output_type": "stream",
     "text": [
      "For age group of 13 there are total 1655 Movie listed on hotstar.\n",
      "\n",
      "Top 5 Category are\n",
      " Drama       600\n",
      "Action      266\n",
      "Romance     224\n",
      "Comedy      210\n",
      "Thriller    116\n",
      "Name: genre, dtype: int64\n"
     ]
    }
   ],
   "source": [
    "plt.figure(figsize=(15,10))\n",
    "sns.countplot(age_13[\"genre\"])\n",
    "plt.xticks(rotation=90)\n",
    "plt.show()\n",
    "\n",
    "print(\"For age group of 13 there are total\",age_13[\"genre\"].count(),\"Movie listed on hotstar.\\n\")\n",
    "print(\"Top 5 Category are\\n\",age_13[\"genre\"].value_counts().nlargest(5))"
   ]
  },
  {
   "cell_type": "code",
   "execution_count": 30,
   "id": "cda2715c",
   "metadata": {},
   "outputs": [],
   "source": [
    "age_16=age.get_group(16)"
   ]
  },
  {
   "cell_type": "code",
   "execution_count": 31,
   "id": "ff8d068b",
   "metadata": {},
   "outputs": [
    {
     "data": {
      "image/png": "[encoded data removed]",
      "text/plain": [
       "<Figure size 1080x720 with 1 Axes>"
      ]
     },
     "metadata": {
      "needs_background": "light"
     },
     "output_type": "display_data"
    },
    {
     "name": "stdout",
     "output_type": "stream",
     "text": [
      "For age group of 16 there are total 802 Movie listed on hotstar.\n",
      "\n",
      "Top 5 Category are\n",
      " Drama       253\n",
      "Action      193\n",
      "Thriller    112\n",
      "Romance      57\n",
      "Comedy       50\n",
      "Name: genre, dtype: int64\n"
     ]
    }
   ],
   "source": [
    "plt.figure(figsize=(15,10))\n",
    "sns.countplot(age_16[\"genre\"])\n",
    "plt.xticks(rotation=90)\n",
    "plt.show()\n",
    "\n",
    "print(\"For age group of 16 there are total\",age_16[\"genre\"].count(),\"Movie listed on hotstar.\\n\")\n",
    "print(\"Top 5 Category are\\n\",age_16[\"genre\"].value_counts().nlargest(5))"
   ]
  },
  {
   "cell_type": "code",
   "execution_count": 32,
   "id": "dcc994d3",
   "metadata": {},
   "outputs": [],
   "source": [
    "age_18=age.get_group(18)"
   ]
  },
  {
   "cell_type": "code",
   "execution_count": 33,
   "id": "47b8c59c",
   "metadata": {},
   "outputs": [
    {
     "data": {
      "image/png": "[encoded data removed]",
      "text/plain": [
       "<Figure size 1080x720 with 1 Axes>"
      ]
     },
     "metadata": {
      "needs_background": "light"
     },
     "output_type": "display_data"
    },
    {
     "name": "stdout",
     "output_type": "stream",
     "text": [
      "For age group of 18 there are total 148 Movie listed on hotstar.\n",
      "\n",
      "Top 5 Category are\n",
      " Standup Comedy    34\n",
      "Drama             31\n",
      "Thriller          18\n",
      "Action            17\n",
      "Horror            10\n",
      "Name: genre, dtype: int64\n"
     ]
    }
   ],
   "source": [
    "plt.figure(figsize=(15,10))\n",
    "sns.countplot(age_18[\"genre\"])\n",
    "plt.xticks(rotation=90)\n",
    "plt.show()\n",
    "\n",
    "print(\"For age group of 18 there are total\",age_18[\"genre\"].count(),\"Movie listed on hotstar.\\n\")\n",
    "print(\"Top 5 Category are\\n\",age_18[\"genre\"].value_counts().nlargest(5))"
   ]
  },
  {
   "cell_type": "code",
   "execution_count": 34,
   "id": "8e52dd88",
   "metadata": {},
   "outputs": [
    {
     "data": {
      "image/png": "[encoded data removed]",
      "text/plain": [
       "<Figure size 720x720 with 1 Axes>"
      ]
     },
     "metadata": {
      "needs_background": "light"
     },
     "output_type": "display_data"
    }
   ],
   "source": [
    "plt.figure(figsize=(10,10))\n",
    "sns.scatterplot(x=\"running_time\",y=\"genre\",data=movie_shows)\n",
    "plt.show()"
   ]
  },
  {
   "cell_type": "code",
   "execution_count": 35,
   "id": "295bbe9c",
   "metadata": {},
   "outputs": [
    {
     "data": {
      "image/png": "[encoded data removed]",
      "text/plain": [
       "<Figure size 432x288 with 1 Axes>"
      ]
     },
     "metadata": {
      "needs_background": "light"
     },
     "output_type": "display_data"
    }
   ],
   "source": [
    "sns.boxplot(movie_shows[\"running_time\"])\n",
    "plt.show()"
   ]
  },
  {
   "cell_type": "code",
   "execution_count": 36,
   "id": "f02ab34d",
   "metadata": {},
   "outputs": [
    {
     "data": {
      "text/plain": [
       "count    4188.000000\n",
       "mean      104.016476\n",
       "std        45.989765\n",
       "min         1.000000\n",
       "25%        87.000000\n",
       "50%       119.000000\n",
       "75%       136.000000\n",
       "max       199.000000\n",
       "Name: running_time, dtype: float64"
      ]
     },
     "execution_count": 36,
     "metadata": {},
     "output_type": "execute_result"
    }
   ],
   "source": [
    "movie_shows[\"running_time\"].describe()"
   ]
  },
  {
   "cell_type": "markdown",
   "id": "68d92730",
   "metadata": {},
   "source": [
    "The Average Running time of all the movie which is listed on hotstar are 104.\n",
    "The Value of Running time lies between 1 to 199.\n",
    "The median value of Running time is 119."
   ]
  },
  {
   "cell_type": "code",
   "execution_count": 37,
   "id": "10ce02e1",
   "metadata": {},
   "outputs": [
    {
     "data": {
      "image/png": "[encoded data removed]",
      "text/plain": [
       "<Figure size 432x288 with 1 Axes>"
      ]
     },
     "metadata": {
      "needs_background": "light"
     },
     "output_type": "display_data"
    }
   ],
   "source": [
    "sns.distplot(movie_shows[\"running_time\"])\n",
    "plt.show()\n",
    "#Most of the running time lies between 100 to 150."
   ]
  },
  {
   "cell_type": "code",
   "execution_count": 38,
   "id": "aec12470",
   "metadata": {},
   "outputs": [],
   "source": [
    "age_group_4=age_4[\"genre\"].value_counts()"
   ]
  },
  {
   "cell_type": "code",
   "execution_count": 39,
   "id": "c776247b",
   "metadata": {},
   "outputs": [],
   "source": [
    "age_group_7=age_7[\"genre\"].value_counts()"
   ]
  },
  {
   "cell_type": "code",
   "execution_count": 40,
   "id": "ae4c074b",
   "metadata": {},
   "outputs": [],
   "source": [
    "age_group_13=age_13[\"genre\"].value_counts()"
   ]
  },
  {
   "cell_type": "code",
   "execution_count": 41,
   "id": "0548251c",
   "metadata": {},
   "outputs": [],
   "source": [
    "age_group_16=age_16[\"genre\"].value_counts()"
   ]
  },
  {
   "cell_type": "code",
   "execution_count": 42,
   "id": "5f1c0f14",
   "metadata": {},
   "outputs": [],
   "source": [
    "age_group_18=age_18[\"genre\"].value_counts()"
   ]
  },
  {
   "cell_type": "code",
   "execution_count": 43,
   "id": "c5e8aa21",
   "metadata": {},
   "outputs": [
    {
     "data": {
      "image/png": "[encoded data removed]",
      "text/plain": [
       "<Figure size 1080x1080 with 5 Axes>"
      ]
     },
     "metadata": {
      "needs_background": "light"
     },
     "output_type": "display_data"
    }
   ],
   "source": [
    "plt.subplot(3,2,1)\n",
    "age_group_4.plot.barh(figsize=(15,15))\n",
    "plt.title(\"TOTAL NO OF MOVIES FOR AGE GROUP OF 4\")\n",
    "\n",
    "plt.subplot(3,2,2)\n",
    "age_group_7.plot.barh(figsize=(15,15))\n",
    "plt.title(\"TOTAL NO OF MOVIES FOR AGE GROUP OF 7\")\n",
    "\n",
    "plt.subplot(3,2,3)\n",
    "age_group_13.plot.barh(figsize=(15,15))\n",
    "plt.title(\"TOTAL NO OF MOVIES FOR AGE GROUP OF 13\")\n",
    "\n",
    "plt.subplot(3,2,4)\n",
    "age_group_16.plot.barh(figsize=(15,15))\n",
    "plt.title(\"TOTAL NO OF MOVIES FOR AGE GROUP OF 16\")\n",
    "\n",
    "plt.subplot(3,2,5)\n",
    "age_group_18.plot.barh(figsize=(15,15))\n",
    "plt.title(\"TOTAL NO OF MOVIES FOR AGE GROUP OF 18\")\n",
    "\n",
    "plt.show()"
   ]
  },
  {
   "cell_type": "markdown",
   "id": "a68608c7",
   "metadata": {},
   "source": [
    "# TV Show that are listed on hotstar"
   ]
  },
  {
   "cell_type": "code",
   "execution_count": 44,
   "id": "e18b6b8f",
   "metadata": {},
   "outputs": [],
   "source": [
    "tv_shows=g.get_group(\"tv\")"
   ]
  },
  {
   "cell_type": "code",
   "execution_count": 45,
   "id": "67fee70c",
   "metadata": {},
   "outputs": [
    {
     "data": {
      "text/html": [
       "<div>\n",
       "<style scoped>\n",
       "    .dataframe tbody tr th:only-of-type {\n",
       "        vertical-align: middle;\n",
       "    }\n",
       "\n",
       "    .dataframe tbody tr th {\n",
       "        vertical-align: top;\n",
       "    }\n",
       "\n",
       "    .dataframe thead th {\n",
       "        text-align: right;\n",
       "    }\n",
       "</style>\n",
       "<table border=\"1\" class=\"dataframe\">\n",
       "  <thead>\n",
       "    <tr style=\"text-align: right;\">\n",
       "      <th></th>\n",
       "      <th>hotstar_id</th>\n",
       "      <th>title</th>\n",
       "      <th>description</th>\n",
       "      <th>genre</th>\n",
       "      <th>year</th>\n",
       "      <th>age_rating</th>\n",
       "      <th>running_time</th>\n",
       "      <th>seasons</th>\n",
       "      <th>episodes</th>\n",
       "      <th>type</th>\n",
       "    </tr>\n",
       "  </thead>\n",
       "  <tbody>\n",
       "    <tr>\n",
       "      <th>4188</th>\n",
       "      <td>9567</td>\n",
       "      <td>Ishqbaaz</td>\n",
       "      <td>Brothers Shivaay, Omkara and Rudra share an un...</td>\n",
       "      <td>Family</td>\n",
       "      <td>2016</td>\n",
       "      <td>U/A 13+</td>\n",
       "      <td>NaN</td>\n",
       "      <td>13.0</td>\n",
       "      <td>758.0</td>\n",
       "      <td>tv</td>\n",
       "    </tr>\n",
       "    <tr>\n",
       "      <th>4189</th>\n",
       "      <td>1260068051</td>\n",
       "      <td>Aay Tobe Sohochori</td>\n",
       "      <td>Homemaker Sohochori is loved by her family, bu...</td>\n",
       "      <td>Drama</td>\n",
       "      <td>2021</td>\n",
       "      <td>U/A 13+</td>\n",
       "      <td>NaN</td>\n",
       "      <td>1.0</td>\n",
       "      <td>302.0</td>\n",
       "      <td>tv</td>\n",
       "    </tr>\n",
       "    <tr>\n",
       "      <th>4190</th>\n",
       "      <td>5406</td>\n",
       "      <td>Mandal Bhari Aahe</td>\n",
       "      <td>Mitra Mandals stand for unity, faith and celeb...</td>\n",
       "      <td>Reality</td>\n",
       "      <td>2015</td>\n",
       "      <td>U/A 7+</td>\n",
       "      <td>NaN</td>\n",
       "      <td>3.0</td>\n",
       "      <td>57.0</td>\n",
       "      <td>tv</td>\n",
       "    </tr>\n",
       "    <tr>\n",
       "      <th>4191</th>\n",
       "      <td>8205</td>\n",
       "      <td>Veep</td>\n",
       "      <td>Former Senator Selina Meyer finds that being V...</td>\n",
       "      <td>Comedy</td>\n",
       "      <td>2012</td>\n",
       "      <td>U/A 16+</td>\n",
       "      <td>NaN</td>\n",
       "      <td>7.0</td>\n",
       "      <td>65.0</td>\n",
       "      <td>tv</td>\n",
       "    </tr>\n",
       "    <tr>\n",
       "      <th>4192</th>\n",
       "      <td>1260004920</td>\n",
       "      <td>Road to Finals: VIVO IPL 2019</td>\n",
       "      <td>Recap of the road to finals for the 2 teams in...</td>\n",
       "      <td>Sport</td>\n",
       "      <td>2019</td>\n",
       "      <td>PG</td>\n",
       "      <td>NaN</td>\n",
       "      <td>1.0</td>\n",
       "      <td>2.0</td>\n",
       "      <td>tv</td>\n",
       "    </tr>\n",
       "    <tr>\n",
       "      <th>...</th>\n",
       "      <td>...</td>\n",
       "      <td>...</td>\n",
       "      <td>...</td>\n",
       "      <td>...</td>\n",
       "      <td>...</td>\n",
       "      <td>...</td>\n",
       "      <td>...</td>\n",
       "      <td>...</td>\n",
       "      <td>...</td>\n",
       "      <td>...</td>\n",
       "    </tr>\n",
       "    <tr>\n",
       "      <th>6354</th>\n",
       "      <td>18211</td>\n",
       "      <td>MS Dhoni - Reimagined Hindi</td>\n",
       "      <td>MS Dhoni's career reimagined, watch streaming ...</td>\n",
       "      <td>Sport</td>\n",
       "      <td>2018</td>\n",
       "      <td>U/A 13+</td>\n",
       "      <td>NaN</td>\n",
       "      <td>1.0</td>\n",
       "      <td>1.0</td>\n",
       "      <td>tv</td>\n",
       "    </tr>\n",
       "    <tr>\n",
       "      <th>6355</th>\n",
       "      <td>1260063600</td>\n",
       "      <td>Sasneham</td>\n",
       "      <td>An old-age home reunites past lovers Indira an...</td>\n",
       "      <td>Drama</td>\n",
       "      <td>2021</td>\n",
       "      <td>U/A 13+</td>\n",
       "      <td>NaN</td>\n",
       "      <td>1.0</td>\n",
       "      <td>345.0</td>\n",
       "      <td>tv</td>\n",
       "    </tr>\n",
       "    <tr>\n",
       "      <th>6356</th>\n",
       "      <td>1260071152</td>\n",
       "      <td>Bolo Ambe Maa Ki Jai</td>\n",
       "      <td>Narrated by Saptarishi, celebrate Navratri wit...</td>\n",
       "      <td>Mythology</td>\n",
       "      <td>2021</td>\n",
       "      <td>U/A 13+</td>\n",
       "      <td>NaN</td>\n",
       "      <td>1.0</td>\n",
       "      <td>5.0</td>\n",
       "      <td>tv</td>\n",
       "    </tr>\n",
       "    <tr>\n",
       "      <th>6357</th>\n",
       "      <td>1260002656</td>\n",
       "      <td>Ambi Ning Vaisaytho Specials</td>\n",
       "      <td>Catch all the fun, gossips, and anecdotes from...</td>\n",
       "      <td>Reality</td>\n",
       "      <td>2018</td>\n",
       "      <td>G</td>\n",
       "      <td>NaN</td>\n",
       "      <td>1.0</td>\n",
       "      <td>1.0</td>\n",
       "      <td>tv</td>\n",
       "    </tr>\n",
       "    <tr>\n",
       "      <th>6358</th>\n",
       "      <td>1260003179</td>\n",
       "      <td>Dil Toh Happy Hai Ji</td>\n",
       "      <td>Based in Amritsar, this is a joyful tale of fr...</td>\n",
       "      <td>Drama</td>\n",
       "      <td>2019</td>\n",
       "      <td>U/A 13+</td>\n",
       "      <td>NaN</td>\n",
       "      <td>1.0</td>\n",
       "      <td>148.0</td>\n",
       "      <td>tv</td>\n",
       "    </tr>\n",
       "  </tbody>\n",
       "</table>\n",
       "<p>2171 rows × 10 columns</p>\n",
       "</div>"
      ],
      "text/plain": [
       "      hotstar_id                          title  \\\n",
       "4188        9567                       Ishqbaaz   \n",
       "4189  1260068051             Aay Tobe Sohochori   \n",
       "4190        5406              Mandal Bhari Aahe   \n",
       "4191        8205                           Veep   \n",
       "4192  1260004920  Road to Finals: VIVO IPL 2019   \n",
       "...          ...                            ...   \n",
       "6354       18211    MS Dhoni - Reimagined Hindi   \n",
       "6355  1260063600                       Sasneham   \n",
       "6356  1260071152           Bolo Ambe Maa Ki Jai   \n",
       "6357  1260002656   Ambi Ning Vaisaytho Specials   \n",
       "6358  1260003179           Dil Toh Happy Hai Ji   \n",
       "\n",
       "                                            description      genre  year  \\\n",
       "4188  Brothers Shivaay, Omkara and Rudra share an un...     Family  2016   \n",
       "4189  Homemaker Sohochori is loved by her family, bu...      Drama  2021   \n",
       "4190  Mitra Mandals stand for unity, faith and celeb...    Reality  2015   \n",
       "4191  Former Senator Selina Meyer finds that being V...     Comedy  2012   \n",
       "4192  Recap of the road to finals for the 2 teams in...      Sport  2019   \n",
       "...                                                 ...        ...   ...   \n",
       "6354  MS Dhoni's career reimagined, watch streaming ...      Sport  2018   \n",
       "6355  An old-age home reunites past lovers Indira an...      Drama  2021   \n",
       "6356  Narrated by Saptarishi, celebrate Navratri wit...  Mythology  2021   \n",
       "6357  Catch all the fun, gossips, and anecdotes from...    Reality  2018   \n",
       "6358  Based in Amritsar, this is a joyful tale of fr...      Drama  2019   \n",
       "\n",
       "     age_rating  running_time  seasons  episodes type  \n",
       "4188    U/A 13+           NaN     13.0     758.0   tv  \n",
       "4189    U/A 13+           NaN      1.0     302.0   tv  \n",
       "4190     U/A 7+           NaN      3.0      57.0   tv  \n",
       "4191    U/A 16+           NaN      7.0      65.0   tv  \n",
       "4192         PG           NaN      1.0       2.0   tv  \n",
       "...         ...           ...      ...       ...  ...  \n",
       "6354    U/A 13+           NaN      1.0       1.0   tv  \n",
       "6355    U/A 13+           NaN      1.0     345.0   tv  \n",
       "6356    U/A 13+           NaN      1.0       5.0   tv  \n",
       "6357          G           NaN      1.0       1.0   tv  \n",
       "6358    U/A 13+           NaN      1.0     148.0   tv  \n",
       "\n",
       "[2171 rows x 10 columns]"
      ]
     },
     "execution_count": 45,
     "metadata": {},
     "output_type": "execute_result"
    }
   ],
   "source": [
    "tv_shows\n",
    "#There are total 2171 Tv shows listed on hotstar."
   ]
  },
  {
   "cell_type": "code",
   "execution_count": 46,
   "id": "56c3dcd8",
   "metadata": {},
   "outputs": [
    {
     "name": "stdout",
     "output_type": "stream",
     "text": [
      "<class 'pandas.core.frame.DataFrame'>\n",
      "Int64Index: 2171 entries, 4188 to 6358\n",
      "Data columns (total 10 columns):\n",
      " #   Column        Non-Null Count  Dtype  \n",
      "---  ------        --------------  -----  \n",
      " 0   hotstar_id    2171 non-null   int64  \n",
      " 1   title         2171 non-null   object \n",
      " 2   description   2171 non-null   object \n",
      " 3   genre         2171 non-null   object \n",
      " 4   year          2171 non-null   int64  \n",
      " 5   age_rating    2171 non-null   object \n",
      " 6   running_time  0 non-null      float64\n",
      " 7   seasons       2171 non-null   float64\n",
      " 8   episodes      2171 non-null   float64\n",
      " 9   type          2171 non-null   object \n",
      "dtypes: float64(3), int64(2), object(5)\n",
      "memory usage: 186.6+ KB\n"
     ]
    }
   ],
   "source": [
    "tv_shows.info()"
   ]
  },
  {
   "cell_type": "code",
   "execution_count": 47,
   "id": "4f61a738",
   "metadata": {},
   "outputs": [
    {
     "data": {
      "text/plain": [
       "hotstar_id        0.0\n",
       "title             0.0\n",
       "description       0.0\n",
       "genre             0.0\n",
       "year              0.0\n",
       "age_rating        0.0\n",
       "running_time    100.0\n",
       "seasons           0.0\n",
       "episodes          0.0\n",
       "type              0.0\n",
       "dtype: float64"
      ]
     },
     "execution_count": 47,
     "metadata": {},
     "output_type": "execute_result"
    }
   ],
   "source": [
    "tv_shows.isnull().sum()/len(tv_shows)*100"
   ]
  },
  {
   "cell_type": "code",
   "execution_count": 48,
   "id": "616ec490",
   "metadata": {},
   "outputs": [],
   "source": [
    "tv_shows.drop(\"running_time\",axis=1,inplace=True)"
   ]
  },
  {
   "cell_type": "code",
   "execution_count": 49,
   "id": "29d067b4",
   "metadata": {},
   "outputs": [
    {
     "data": {
      "text/html": [
       "<div>\n",
       "<style scoped>\n",
       "    .dataframe tbody tr th:only-of-type {\n",
       "        vertical-align: middle;\n",
       "    }\n",
       "\n",
       "    .dataframe tbody tr th {\n",
       "        vertical-align: top;\n",
       "    }\n",
       "\n",
       "    .dataframe thead th {\n",
       "        text-align: right;\n",
       "    }\n",
       "</style>\n",
       "<table border=\"1\" class=\"dataframe\">\n",
       "  <thead>\n",
       "    <tr style=\"text-align: right;\">\n",
       "      <th></th>\n",
       "      <th>hotstar_id</th>\n",
       "      <th>title</th>\n",
       "      <th>description</th>\n",
       "      <th>genre</th>\n",
       "      <th>year</th>\n",
       "      <th>age_rating</th>\n",
       "      <th>seasons</th>\n",
       "      <th>episodes</th>\n",
       "      <th>type</th>\n",
       "    </tr>\n",
       "  </thead>\n",
       "  <tbody>\n",
       "    <tr>\n",
       "      <th>4188</th>\n",
       "      <td>9567</td>\n",
       "      <td>Ishqbaaz</td>\n",
       "      <td>Brothers Shivaay, Omkara and Rudra share an un...</td>\n",
       "      <td>Family</td>\n",
       "      <td>2016</td>\n",
       "      <td>U/A 13+</td>\n",
       "      <td>13.0</td>\n",
       "      <td>758.0</td>\n",
       "      <td>tv</td>\n",
       "    </tr>\n",
       "    <tr>\n",
       "      <th>4189</th>\n",
       "      <td>1260068051</td>\n",
       "      <td>Aay Tobe Sohochori</td>\n",
       "      <td>Homemaker Sohochori is loved by her family, bu...</td>\n",
       "      <td>Drama</td>\n",
       "      <td>2021</td>\n",
       "      <td>U/A 13+</td>\n",
       "      <td>1.0</td>\n",
       "      <td>302.0</td>\n",
       "      <td>tv</td>\n",
       "    </tr>\n",
       "    <tr>\n",
       "      <th>4190</th>\n",
       "      <td>5406</td>\n",
       "      <td>Mandal Bhari Aahe</td>\n",
       "      <td>Mitra Mandals stand for unity, faith and celeb...</td>\n",
       "      <td>Reality</td>\n",
       "      <td>2015</td>\n",
       "      <td>U/A 7+</td>\n",
       "      <td>3.0</td>\n",
       "      <td>57.0</td>\n",
       "      <td>tv</td>\n",
       "    </tr>\n",
       "    <tr>\n",
       "      <th>4191</th>\n",
       "      <td>8205</td>\n",
       "      <td>Veep</td>\n",
       "      <td>Former Senator Selina Meyer finds that being V...</td>\n",
       "      <td>Comedy</td>\n",
       "      <td>2012</td>\n",
       "      <td>U/A 16+</td>\n",
       "      <td>7.0</td>\n",
       "      <td>65.0</td>\n",
       "      <td>tv</td>\n",
       "    </tr>\n",
       "    <tr>\n",
       "      <th>4192</th>\n",
       "      <td>1260004920</td>\n",
       "      <td>Road to Finals: VIVO IPL 2019</td>\n",
       "      <td>Recap of the road to finals for the 2 teams in...</td>\n",
       "      <td>Sport</td>\n",
       "      <td>2019</td>\n",
       "      <td>PG</td>\n",
       "      <td>1.0</td>\n",
       "      <td>2.0</td>\n",
       "      <td>tv</td>\n",
       "    </tr>\n",
       "    <tr>\n",
       "      <th>...</th>\n",
       "      <td>...</td>\n",
       "      <td>...</td>\n",
       "      <td>...</td>\n",
       "      <td>...</td>\n",
       "      <td>...</td>\n",
       "      <td>...</td>\n",
       "      <td>...</td>\n",
       "      <td>...</td>\n",
       "      <td>...</td>\n",
       "    </tr>\n",
       "    <tr>\n",
       "      <th>6354</th>\n",
       "      <td>18211</td>\n",
       "      <td>MS Dhoni - Reimagined Hindi</td>\n",
       "      <td>MS Dhoni's career reimagined, watch streaming ...</td>\n",
       "      <td>Sport</td>\n",
       "      <td>2018</td>\n",
       "      <td>U/A 13+</td>\n",
       "      <td>1.0</td>\n",
       "      <td>1.0</td>\n",
       "      <td>tv</td>\n",
       "    </tr>\n",
       "    <tr>\n",
       "      <th>6355</th>\n",
       "      <td>1260063600</td>\n",
       "      <td>Sasneham</td>\n",
       "      <td>An old-age home reunites past lovers Indira an...</td>\n",
       "      <td>Drama</td>\n",
       "      <td>2021</td>\n",
       "      <td>U/A 13+</td>\n",
       "      <td>1.0</td>\n",
       "      <td>345.0</td>\n",
       "      <td>tv</td>\n",
       "    </tr>\n",
       "    <tr>\n",
       "      <th>6356</th>\n",
       "      <td>1260071152</td>\n",
       "      <td>Bolo Ambe Maa Ki Jai</td>\n",
       "      <td>Narrated by Saptarishi, celebrate Navratri wit...</td>\n",
       "      <td>Mythology</td>\n",
       "      <td>2021</td>\n",
       "      <td>U/A 13+</td>\n",
       "      <td>1.0</td>\n",
       "      <td>5.0</td>\n",
       "      <td>tv</td>\n",
       "    </tr>\n",
       "    <tr>\n",
       "      <th>6357</th>\n",
       "      <td>1260002656</td>\n",
       "      <td>Ambi Ning Vaisaytho Specials</td>\n",
       "      <td>Catch all the fun, gossips, and anecdotes from...</td>\n",
       "      <td>Reality</td>\n",
       "      <td>2018</td>\n",
       "      <td>G</td>\n",
       "      <td>1.0</td>\n",
       "      <td>1.0</td>\n",
       "      <td>tv</td>\n",
       "    </tr>\n",
       "    <tr>\n",
       "      <th>6358</th>\n",
       "      <td>1260003179</td>\n",
       "      <td>Dil Toh Happy Hai Ji</td>\n",
       "      <td>Based in Amritsar, this is a joyful tale of fr...</td>\n",
       "      <td>Drama</td>\n",
       "      <td>2019</td>\n",
       "      <td>U/A 13+</td>\n",
       "      <td>1.0</td>\n",
       "      <td>148.0</td>\n",
       "      <td>tv</td>\n",
       "    </tr>\n",
       "  </tbody>\n",
       "</table>\n",
       "<p>2171 rows × 9 columns</p>\n",
       "</div>"
      ],
      "text/plain": [
       "      hotstar_id                          title  \\\n",
       "4188        9567                       Ishqbaaz   \n",
       "4189  1260068051             Aay Tobe Sohochori   \n",
       "4190        5406              Mandal Bhari Aahe   \n",
       "4191        8205                           Veep   \n",
       "4192  1260004920  Road to Finals: VIVO IPL 2019   \n",
       "...          ...                            ...   \n",
       "6354       18211    MS Dhoni - Reimagined Hindi   \n",
       "6355  1260063600                       Sasneham   \n",
       "6356  1260071152           Bolo Ambe Maa Ki Jai   \n",
       "6357  1260002656   Ambi Ning Vaisaytho Specials   \n",
       "6358  1260003179           Dil Toh Happy Hai Ji   \n",
       "\n",
       "                                            description      genre  year  \\\n",
       "4188  Brothers Shivaay, Omkara and Rudra share an un...     Family  2016   \n",
       "4189  Homemaker Sohochori is loved by her family, bu...      Drama  2021   \n",
       "4190  Mitra Mandals stand for unity, faith and celeb...    Reality  2015   \n",
       "4191  Former Senator Selina Meyer finds that being V...     Comedy  2012   \n",
       "4192  Recap of the road to finals for the 2 teams in...      Sport  2019   \n",
       "...                                                 ...        ...   ...   \n",
       "6354  MS Dhoni's career reimagined, watch streaming ...      Sport  2018   \n",
       "6355  An old-age home reunites past lovers Indira an...      Drama  2021   \n",
       "6356  Narrated by Saptarishi, celebrate Navratri wit...  Mythology  2021   \n",
       "6357  Catch all the fun, gossips, and anecdotes from...    Reality  2018   \n",
       "6358  Based in Amritsar, this is a joyful tale of fr...      Drama  2019   \n",
       "\n",
       "     age_rating  seasons  episodes type  \n",
       "4188    U/A 13+     13.0     758.0   tv  \n",
       "4189    U/A 13+      1.0     302.0   tv  \n",
       "4190     U/A 7+      3.0      57.0   tv  \n",
       "4191    U/A 16+      7.0      65.0   tv  \n",
       "4192         PG      1.0       2.0   tv  \n",
       "...         ...      ...       ...  ...  \n",
       "6354    U/A 13+      1.0       1.0   tv  \n",
       "6355    U/A 13+      1.0     345.0   tv  \n",
       "6356    U/A 13+      1.0       5.0   tv  \n",
       "6357          G      1.0       1.0   tv  \n",
       "6358    U/A 13+      1.0     148.0   tv  \n",
       "\n",
       "[2171 rows x 9 columns]"
      ]
     },
     "execution_count": 49,
     "metadata": {},
     "output_type": "execute_result"
    }
   ],
   "source": [
    "tv_shows"
   ]
  },
  {
   "cell_type": "code",
   "execution_count": 50,
   "id": "d4a233b1",
   "metadata": {},
   "outputs": [
    {
     "data": {
      "text/plain": [
       "array(['U/A 13+', 'U/A 7+', 'U/A 16+', 'PG', 'U', 'G', 'A', '15+',\n",
       "       'Kannada', 'English', '12+', 'Star Sports Kannada 1', 'Telugu',\n",
       "       'Star Sports 1 Telugu', 'Marathi', 'Star Suvarna', 'Hindi',\n",
       "       'Star Sports 1 Marathi', 'Star Vijay', 'Star Sports 2', 'Tamil',\n",
       "       'Star Sports Hindi 1'], dtype=object)"
      ]
     },
     "execution_count": 50,
     "metadata": {},
     "output_type": "execute_result"
    }
   ],
   "source": [
    "tv_shows[\"age_rating\"].unique()"
   ]
  },
  {
   "cell_type": "markdown",
   "id": "f2497d21",
   "metadata": {},
   "source": [
    "# Removing those element which is not an age group"
   ]
  },
  {
   "cell_type": "code",
   "execution_count": 51,
   "id": "ea5bd1e7",
   "metadata": {},
   "outputs": [
    {
     "data": {
      "text/html": [
       "<div>\n",
       "<style scoped>\n",
       "    .dataframe tbody tr th:only-of-type {\n",
       "        vertical-align: middle;\n",
       "    }\n",
       "\n",
       "    .dataframe tbody tr th {\n",
       "        vertical-align: top;\n",
       "    }\n",
       "\n",
       "    .dataframe thead th {\n",
       "        text-align: right;\n",
       "    }\n",
       "</style>\n",
       "<table border=\"1\" class=\"dataframe\">\n",
       "  <thead>\n",
       "    <tr style=\"text-align: right;\">\n",
       "      <th></th>\n",
       "      <th>hotstar_id</th>\n",
       "      <th>title</th>\n",
       "      <th>description</th>\n",
       "      <th>genre</th>\n",
       "      <th>year</th>\n",
       "      <th>age_rating</th>\n",
       "      <th>seasons</th>\n",
       "      <th>episodes</th>\n",
       "      <th>type</th>\n",
       "    </tr>\n",
       "  </thead>\n",
       "  <tbody>\n",
       "    <tr>\n",
       "      <th>6055</th>\n",
       "      <td>1260008554</td>\n",
       "      <td>KBD Countdown 2019 Hindi</td>\n",
       "      <td>Your weekly review of VIVO Pro Kabaddi 2019</td>\n",
       "      <td>Sport</td>\n",
       "      <td>2019</td>\n",
       "      <td>Hindi</td>\n",
       "      <td>1.0</td>\n",
       "      <td>12.0</td>\n",
       "      <td>tv</td>\n",
       "    </tr>\n",
       "  </tbody>\n",
       "</table>\n",
       "</div>"
      ],
      "text/plain": [
       "      hotstar_id                     title  \\\n",
       "6055  1260008554  KBD Countdown 2019 Hindi   \n",
       "\n",
       "                                      description  genre  year age_rating  \\\n",
       "6055  Your weekly review of VIVO Pro Kabaddi 2019  Sport  2019      Hindi   \n",
       "\n",
       "      seasons  episodes type  \n",
       "6055      1.0      12.0   tv  "
      ]
     },
     "execution_count": 51,
     "metadata": {},
     "output_type": "execute_result"
    }
   ],
   "source": [
    "tv_shows[tv_shows[\"age_rating\"]==\"Hindi\"]"
   ]
  },
  {
   "cell_type": "code",
   "execution_count": 52,
   "id": "ae48275c",
   "metadata": {},
   "outputs": [],
   "source": [
    "tv_shows.drop(index=[6055],inplace=True)"
   ]
  },
  {
   "cell_type": "code",
   "execution_count": 53,
   "id": "790bbf97",
   "metadata": {},
   "outputs": [
    {
     "data": {
      "text/plain": [
       "U/A 13+                  943\n",
       "U/A 7+                   317\n",
       "PG                       252\n",
       "U                        207\n",
       "U/A 16+                  196\n",
       "A                        123\n",
       "G                         81\n",
       "12+                       20\n",
       "15+                        9\n",
       "English                    6\n",
       "Kannada                    4\n",
       "Star Sports 1 Marathi      3\n",
       "Star Sports Kannada 1      1\n",
       "Telugu                     1\n",
       "Star Sports 1 Telugu       1\n",
       "Marathi                    1\n",
       "Star Suvarna               1\n",
       "Star Vijay                 1\n",
       "Star Sports 2              1\n",
       "Tamil                      1\n",
       "Star Sports Hindi 1        1\n",
       "Name: age_rating, dtype: int64"
      ]
     },
     "execution_count": 53,
     "metadata": {},
     "output_type": "execute_result"
    }
   ],
   "source": [
    "tv_shows[\"age_rating\"].value_counts()"
   ]
  },
  {
   "cell_type": "code",
   "execution_count": 54,
   "id": "01924e99",
   "metadata": {},
   "outputs": [
    {
     "data": {
      "text/html": [
       "<div>\n",
       "<style scoped>\n",
       "    .dataframe tbody tr th:only-of-type {\n",
       "        vertical-align: middle;\n",
       "    }\n",
       "\n",
       "    .dataframe tbody tr th {\n",
       "        vertical-align: top;\n",
       "    }\n",
       "\n",
       "    .dataframe thead th {\n",
       "        text-align: right;\n",
       "    }\n",
       "</style>\n",
       "<table border=\"1\" class=\"dataframe\">\n",
       "  <thead>\n",
       "    <tr style=\"text-align: right;\">\n",
       "      <th></th>\n",
       "      <th>hotstar_id</th>\n",
       "      <th>title</th>\n",
       "      <th>description</th>\n",
       "      <th>genre</th>\n",
       "      <th>year</th>\n",
       "      <th>age_rating</th>\n",
       "      <th>seasons</th>\n",
       "      <th>episodes</th>\n",
       "      <th>type</th>\n",
       "    </tr>\n",
       "  </thead>\n",
       "  <tbody>\n",
       "    <tr>\n",
       "      <th>4322</th>\n",
       "      <td>1260008648</td>\n",
       "      <td>KBD Juniors 2019 - Qualifiers</td>\n",
       "      <td>Match highlights of Kabaddi Junior</td>\n",
       "      <td>Sport</td>\n",
       "      <td>2019</td>\n",
       "      <td>English</td>\n",
       "      <td>1.0</td>\n",
       "      <td>34.0</td>\n",
       "      <td>tv</td>\n",
       "    </tr>\n",
       "    <tr>\n",
       "      <th>4511</th>\n",
       "      <td>1260008514</td>\n",
       "      <td>KBD Countdown 2019</td>\n",
       "      <td>Your weekly review of VIVO Pro Kabaddi 2019</td>\n",
       "      <td>Sport</td>\n",
       "      <td>2019</td>\n",
       "      <td>English</td>\n",
       "      <td>1.0</td>\n",
       "      <td>12.0</td>\n",
       "      <td>tv</td>\n",
       "    </tr>\n",
       "    <tr>\n",
       "      <th>5026</th>\n",
       "      <td>1260008556</td>\n",
       "      <td>Total KBD Raid On 2019</td>\n",
       "      <td>Your guide to VIVO Pro Kabaddi 2019</td>\n",
       "      <td>Sport</td>\n",
       "      <td>2019</td>\n",
       "      <td>English</td>\n",
       "      <td>1.0</td>\n",
       "      <td>67.0</td>\n",
       "      <td>tv</td>\n",
       "    </tr>\n",
       "    <tr>\n",
       "      <th>5200</th>\n",
       "      <td>10153</td>\n",
       "      <td>Best of ISL - Countdown</td>\n",
       "      <td>Check out the best goals and saves from the In...</td>\n",
       "      <td>Sport</td>\n",
       "      <td>2017</td>\n",
       "      <td>English</td>\n",
       "      <td>1.0</td>\n",
       "      <td>2.0</td>\n",
       "      <td>tv</td>\n",
       "    </tr>\n",
       "    <tr>\n",
       "      <th>5600</th>\n",
       "      <td>1260008661</td>\n",
       "      <td>Ultimate Table Tennis 2019 Highlights</td>\n",
       "      <td>Follow up on the high points of Ultimate Table...</td>\n",
       "      <td>Sport</td>\n",
       "      <td>2019</td>\n",
       "      <td>English</td>\n",
       "      <td>1.0</td>\n",
       "      <td>18.0</td>\n",
       "      <td>tv</td>\n",
       "    </tr>\n",
       "    <tr>\n",
       "      <th>5807</th>\n",
       "      <td>5217</td>\n",
       "      <td>Let’s Football</td>\n",
       "      <td>Let’s Football</td>\n",
       "      <td>Football</td>\n",
       "      <td>2015</td>\n",
       "      <td>English</td>\n",
       "      <td>1.0</td>\n",
       "      <td>12.0</td>\n",
       "      <td>tv</td>\n",
       "    </tr>\n",
       "  </tbody>\n",
       "</table>\n",
       "</div>"
      ],
      "text/plain": [
       "      hotstar_id                                  title  \\\n",
       "4322  1260008648          KBD Juniors 2019 - Qualifiers   \n",
       "4511  1260008514                     KBD Countdown 2019   \n",
       "5026  1260008556                 Total KBD Raid On 2019   \n",
       "5200       10153                Best of ISL - Countdown   \n",
       "5600  1260008661  Ultimate Table Tennis 2019 Highlights   \n",
       "5807        5217                         Let’s Football   \n",
       "\n",
       "                                            description     genre  year  \\\n",
       "4322                 Match highlights of Kabaddi Junior     Sport  2019   \n",
       "4511        Your weekly review of VIVO Pro Kabaddi 2019     Sport  2019   \n",
       "5026                Your guide to VIVO Pro Kabaddi 2019     Sport  2019   \n",
       "5200  Check out the best goals and saves from the In...     Sport  2017   \n",
       "5600  Follow up on the high points of Ultimate Table...     Sport  2019   \n",
       "5807                                     Let’s Football  Football  2015   \n",
       "\n",
       "     age_rating  seasons  episodes type  \n",
       "4322    English      1.0      34.0   tv  \n",
       "4511    English      1.0      12.0   tv  \n",
       "5026    English      1.0      67.0   tv  \n",
       "5200    English      1.0       2.0   tv  \n",
       "5600    English      1.0      18.0   tv  \n",
       "5807    English      1.0      12.0   tv  "
      ]
     },
     "execution_count": 54,
     "metadata": {},
     "output_type": "execute_result"
    }
   ],
   "source": [
    "tv_shows[tv_shows[\"age_rating\"]==\"English\"]"
   ]
  },
  {
   "cell_type": "code",
   "execution_count": 55,
   "id": "3cd7951d",
   "metadata": {},
   "outputs": [],
   "source": [
    "tv_shows.drop(index=[4322,4511,5026,5200,5600,5807],inplace=True)"
   ]
  },
  {
   "cell_type": "code",
   "execution_count": 56,
   "id": "24bb5fea",
   "metadata": {},
   "outputs": [
    {
     "data": {
      "text/html": [
       "<div>\n",
       "<style scoped>\n",
       "    .dataframe tbody tr th:only-of-type {\n",
       "        vertical-align: middle;\n",
       "    }\n",
       "\n",
       "    .dataframe tbody tr th {\n",
       "        vertical-align: top;\n",
       "    }\n",
       "\n",
       "    .dataframe thead th {\n",
       "        text-align: right;\n",
       "    }\n",
       "</style>\n",
       "<table border=\"1\" class=\"dataframe\">\n",
       "  <thead>\n",
       "    <tr style=\"text-align: right;\">\n",
       "      <th></th>\n",
       "      <th>hotstar_id</th>\n",
       "      <th>title</th>\n",
       "      <th>description</th>\n",
       "      <th>genre</th>\n",
       "      <th>year</th>\n",
       "      <th>age_rating</th>\n",
       "      <th>seasons</th>\n",
       "      <th>episodes</th>\n",
       "      <th>type</th>\n",
       "    </tr>\n",
       "  </thead>\n",
       "  <tbody>\n",
       "    <tr>\n",
       "      <th>4319</th>\n",
       "      <td>1260008351</td>\n",
       "      <td>Bengaluru Bulls Payana 2019 Kannada</td>\n",
       "      <td>Relive the VIVO PKL Journey of Bengaluru Bulls</td>\n",
       "      <td>Sport</td>\n",
       "      <td>2019</td>\n",
       "      <td>Kannada</td>\n",
       "      <td>1.0</td>\n",
       "      <td>1.0</td>\n",
       "      <td>tv</td>\n",
       "    </tr>\n",
       "    <tr>\n",
       "      <th>4396</th>\n",
       "      <td>1260008349</td>\n",
       "      <td>Bengaluru Bulls Champions 2019 Kannada</td>\n",
       "      <td>Relive the season 6 VIVO PKL campaign of the B...</td>\n",
       "      <td>Sport</td>\n",
       "      <td>2019</td>\n",
       "      <td>Kannada</td>\n",
       "      <td>1.0</td>\n",
       "      <td>1.0</td>\n",
       "      <td>tv</td>\n",
       "    </tr>\n",
       "    <tr>\n",
       "      <th>5643</th>\n",
       "      <td>1260008345</td>\n",
       "      <td>Bengaluru Bulls Hero - Pawan Sehrawat</td>\n",
       "      <td>Hero buildup for Pawan Sehrawat who gears up f...</td>\n",
       "      <td>Sport</td>\n",
       "      <td>2019</td>\n",
       "      <td>Kannada</td>\n",
       "      <td>1.0</td>\n",
       "      <td>1.0</td>\n",
       "      <td>tv</td>\n",
       "    </tr>\n",
       "    <tr>\n",
       "      <th>5670</th>\n",
       "      <td>10175</td>\n",
       "      <td>Connexion</td>\n",
       "      <td>Connexion is a Kannada reality show on Suvarna...</td>\n",
       "      <td>Reality</td>\n",
       "      <td>2016</td>\n",
       "      <td>Kannada</td>\n",
       "      <td>1.0</td>\n",
       "      <td>21.0</td>\n",
       "      <td>tv</td>\n",
       "    </tr>\n",
       "  </tbody>\n",
       "</table>\n",
       "</div>"
      ],
      "text/plain": [
       "      hotstar_id                                   title  \\\n",
       "4319  1260008351     Bengaluru Bulls Payana 2019 Kannada   \n",
       "4396  1260008349  Bengaluru Bulls Champions 2019 Kannada   \n",
       "5643  1260008345   Bengaluru Bulls Hero - Pawan Sehrawat   \n",
       "5670       10175                               Connexion   \n",
       "\n",
       "                                            description    genre  year  \\\n",
       "4319     Relive the VIVO PKL Journey of Bengaluru Bulls    Sport  2019   \n",
       "4396  Relive the season 6 VIVO PKL campaign of the B...    Sport  2019   \n",
       "5643  Hero buildup for Pawan Sehrawat who gears up f...    Sport  2019   \n",
       "5670  Connexion is a Kannada reality show on Suvarna...  Reality  2016   \n",
       "\n",
       "     age_rating  seasons  episodes type  \n",
       "4319    Kannada      1.0       1.0   tv  \n",
       "4396    Kannada      1.0       1.0   tv  \n",
       "5643    Kannada      1.0       1.0   tv  \n",
       "5670    Kannada      1.0      21.0   tv  "
      ]
     },
     "execution_count": 56,
     "metadata": {},
     "output_type": "execute_result"
    }
   ],
   "source": [
    "tv_shows[tv_shows[\"age_rating\"]==\"Kannada\"]"
   ]
  },
  {
   "cell_type": "code",
   "execution_count": 57,
   "id": "ef94c36d",
   "metadata": {},
   "outputs": [],
   "source": [
    "tv_shows.drop(index=[4319,4396,5643,5670],inplace=True)"
   ]
  },
  {
   "cell_type": "code",
   "execution_count": 58,
   "id": "5bf0a725",
   "metadata": {},
   "outputs": [
    {
     "data": {
      "text/html": [
       "<div>\n",
       "<style scoped>\n",
       "    .dataframe tbody tr th:only-of-type {\n",
       "        vertical-align: middle;\n",
       "    }\n",
       "\n",
       "    .dataframe tbody tr th {\n",
       "        vertical-align: top;\n",
       "    }\n",
       "\n",
       "    .dataframe thead th {\n",
       "        text-align: right;\n",
       "    }\n",
       "</style>\n",
       "<table border=\"1\" class=\"dataframe\">\n",
       "  <thead>\n",
       "    <tr style=\"text-align: right;\">\n",
       "      <th></th>\n",
       "      <th>hotstar_id</th>\n",
       "      <th>title</th>\n",
       "      <th>description</th>\n",
       "      <th>genre</th>\n",
       "      <th>year</th>\n",
       "      <th>age_rating</th>\n",
       "      <th>seasons</th>\n",
       "      <th>episodes</th>\n",
       "      <th>type</th>\n",
       "    </tr>\n",
       "  </thead>\n",
       "  <tbody>\n",
       "    <tr>\n",
       "      <th>6262</th>\n",
       "      <td>11155</td>\n",
       "      <td>Amma</td>\n",
       "      <td>Amma is a Tamil drama on Star Vijay. The story...</td>\n",
       "      <td>Drama</td>\n",
       "      <td>2017</td>\n",
       "      <td>Tamil</td>\n",
       "      <td>1.0</td>\n",
       "      <td>20.0</td>\n",
       "      <td>tv</td>\n",
       "    </tr>\n",
       "  </tbody>\n",
       "</table>\n",
       "</div>"
      ],
      "text/plain": [
       "      hotstar_id title                                        description  \\\n",
       "6262       11155  Amma  Amma is a Tamil drama on Star Vijay. The story...   \n",
       "\n",
       "      genre  year age_rating  seasons  episodes type  \n",
       "6262  Drama  2017      Tamil      1.0      20.0   tv  "
      ]
     },
     "execution_count": 58,
     "metadata": {},
     "output_type": "execute_result"
    }
   ],
   "source": [
    "tv_shows[tv_shows[\"age_rating\"]==\"Tamil\"]"
   ]
  },
  {
   "cell_type": "code",
   "execution_count": 59,
   "id": "6b8c109f",
   "metadata": {},
   "outputs": [],
   "source": [
    "tv_shows.drop(index=[6262],inplace=True)"
   ]
  },
  {
   "cell_type": "code",
   "execution_count": 60,
   "id": "f86604a3",
   "metadata": {},
   "outputs": [
    {
     "data": {
      "text/html": [
       "<div>\n",
       "<style scoped>\n",
       "    .dataframe tbody tr th:only-of-type {\n",
       "        vertical-align: middle;\n",
       "    }\n",
       "\n",
       "    .dataframe tbody tr th {\n",
       "        vertical-align: top;\n",
       "    }\n",
       "\n",
       "    .dataframe thead th {\n",
       "        text-align: right;\n",
       "    }\n",
       "</style>\n",
       "<table border=\"1\" class=\"dataframe\">\n",
       "  <thead>\n",
       "    <tr style=\"text-align: right;\">\n",
       "      <th></th>\n",
       "      <th>hotstar_id</th>\n",
       "      <th>title</th>\n",
       "      <th>description</th>\n",
       "      <th>genre</th>\n",
       "      <th>year</th>\n",
       "      <th>age_rating</th>\n",
       "      <th>seasons</th>\n",
       "      <th>episodes</th>\n",
       "      <th>type</th>\n",
       "    </tr>\n",
       "  </thead>\n",
       "  <tbody>\n",
       "    <tr>\n",
       "      <th>5566</th>\n",
       "      <td>1260008423</td>\n",
       "      <td>KBD Raid On</td>\n",
       "      <td>Your guide to U Mumba and Puneri Paltan</td>\n",
       "      <td>Sport</td>\n",
       "      <td>2019</td>\n",
       "      <td>Marathi</td>\n",
       "      <td>1.0</td>\n",
       "      <td>5.0</td>\n",
       "      <td>tv</td>\n",
       "    </tr>\n",
       "  </tbody>\n",
       "</table>\n",
       "</div>"
      ],
      "text/plain": [
       "      hotstar_id        title                              description  genre  \\\n",
       "5566  1260008423  KBD Raid On  Your guide to U Mumba and Puneri Paltan  Sport   \n",
       "\n",
       "      year age_rating  seasons  episodes type  \n",
       "5566  2019    Marathi      1.0       5.0   tv  "
      ]
     },
     "execution_count": 60,
     "metadata": {},
     "output_type": "execute_result"
    }
   ],
   "source": [
    "tv_shows[tv_shows[\"age_rating\"]==\"Marathi\"]"
   ]
  },
  {
   "cell_type": "code",
   "execution_count": 61,
   "id": "4842c46b",
   "metadata": {},
   "outputs": [],
   "source": [
    "tv_shows.drop(index=[5566],inplace=True)"
   ]
  },
  {
   "cell_type": "code",
   "execution_count": 62,
   "id": "1b8e75b5",
   "metadata": {},
   "outputs": [
    {
     "data": {
      "text/html": [
       "<div>\n",
       "<style scoped>\n",
       "    .dataframe tbody tr th:only-of-type {\n",
       "        vertical-align: middle;\n",
       "    }\n",
       "\n",
       "    .dataframe tbody tr th {\n",
       "        vertical-align: top;\n",
       "    }\n",
       "\n",
       "    .dataframe thead th {\n",
       "        text-align: right;\n",
       "    }\n",
       "</style>\n",
       "<table border=\"1\" class=\"dataframe\">\n",
       "  <thead>\n",
       "    <tr style=\"text-align: right;\">\n",
       "      <th></th>\n",
       "      <th>hotstar_id</th>\n",
       "      <th>title</th>\n",
       "      <th>description</th>\n",
       "      <th>genre</th>\n",
       "      <th>year</th>\n",
       "      <th>age_rating</th>\n",
       "      <th>seasons</th>\n",
       "      <th>episodes</th>\n",
       "      <th>type</th>\n",
       "    </tr>\n",
       "  </thead>\n",
       "  <tbody>\n",
       "    <tr>\n",
       "      <th>4987</th>\n",
       "      <td>1260008286</td>\n",
       "      <td>Titans Thunders 2019 Telugu</td>\n",
       "      <td>Telugu Titans gear up to make a splash in PKL ...</td>\n",
       "      <td>Sport</td>\n",
       "      <td>2019</td>\n",
       "      <td>Telugu</td>\n",
       "      <td>1.0</td>\n",
       "      <td>2.0</td>\n",
       "      <td>tv</td>\n",
       "    </tr>\n",
       "  </tbody>\n",
       "</table>\n",
       "</div>"
      ],
      "text/plain": [
       "      hotstar_id                        title  \\\n",
       "4987  1260008286  Titans Thunders 2019 Telugu   \n",
       "\n",
       "                                            description  genre  year  \\\n",
       "4987  Telugu Titans gear up to make a splash in PKL ...  Sport  2019   \n",
       "\n",
       "     age_rating  seasons  episodes type  \n",
       "4987     Telugu      1.0       2.0   tv  "
      ]
     },
     "execution_count": 62,
     "metadata": {},
     "output_type": "execute_result"
    }
   ],
   "source": [
    "tv_shows[tv_shows[\"age_rating\"]==\"Telugu\"]"
   ]
  },
  {
   "cell_type": "code",
   "execution_count": 63,
   "id": "8fa0e0b9",
   "metadata": {},
   "outputs": [],
   "source": [
    "tv_shows.drop(index=[4987],inplace=True)"
   ]
  },
  {
   "cell_type": "code",
   "execution_count": 64,
   "id": "877c8c5a",
   "metadata": {},
   "outputs": [
    {
     "data": {
      "text/html": [
       "<div>\n",
       "<style scoped>\n",
       "    .dataframe tbody tr th:only-of-type {\n",
       "        vertical-align: middle;\n",
       "    }\n",
       "\n",
       "    .dataframe tbody tr th {\n",
       "        vertical-align: top;\n",
       "    }\n",
       "\n",
       "    .dataframe thead th {\n",
       "        text-align: right;\n",
       "    }\n",
       "</style>\n",
       "<table border=\"1\" class=\"dataframe\">\n",
       "  <thead>\n",
       "    <tr style=\"text-align: right;\">\n",
       "      <th></th>\n",
       "      <th>hotstar_id</th>\n",
       "      <th>title</th>\n",
       "      <th>description</th>\n",
       "      <th>genre</th>\n",
       "      <th>year</th>\n",
       "      <th>age_rating</th>\n",
       "      <th>seasons</th>\n",
       "      <th>episodes</th>\n",
       "      <th>type</th>\n",
       "    </tr>\n",
       "  </thead>\n",
       "  <tbody>\n",
       "    <tr>\n",
       "      <th>6177</th>\n",
       "      <td>1260008506</td>\n",
       "      <td>KBD Countdown</td>\n",
       "      <td>Your weekly review of VIVO Pro Kabaddi 2019</td>\n",
       "      <td>Sport</td>\n",
       "      <td>2019</td>\n",
       "      <td>Star Sports 1 Marathi</td>\n",
       "      <td>1.0</td>\n",
       "      <td>12.0</td>\n",
       "      <td>tv</td>\n",
       "    </tr>\n",
       "    <tr>\n",
       "      <th>6189</th>\n",
       "      <td>1260008508</td>\n",
       "      <td>KBD Juniors - Qualifiers</td>\n",
       "      <td>Match highlights of Kabaddi Junior</td>\n",
       "      <td>Sport</td>\n",
       "      <td>2019</td>\n",
       "      <td>Star Sports 1 Marathi</td>\n",
       "      <td>1.0</td>\n",
       "      <td>32.0</td>\n",
       "      <td>tv</td>\n",
       "    </tr>\n",
       "    <tr>\n",
       "      <th>6310</th>\n",
       "      <td>1260008512</td>\n",
       "      <td>Marathitla Nava Star</td>\n",
       "      <td>Find out about the culture of sports in Mahara...</td>\n",
       "      <td>Sport</td>\n",
       "      <td>2019</td>\n",
       "      <td>Star Sports 1 Marathi</td>\n",
       "      <td>1.0</td>\n",
       "      <td>1.0</td>\n",
       "      <td>tv</td>\n",
       "    </tr>\n",
       "  </tbody>\n",
       "</table>\n",
       "</div>"
      ],
      "text/plain": [
       "      hotstar_id                     title  \\\n",
       "6177  1260008506             KBD Countdown   \n",
       "6189  1260008508  KBD Juniors - Qualifiers   \n",
       "6310  1260008512      Marathitla Nava Star   \n",
       "\n",
       "                                            description  genre  year  \\\n",
       "6177        Your weekly review of VIVO Pro Kabaddi 2019  Sport  2019   \n",
       "6189                 Match highlights of Kabaddi Junior  Sport  2019   \n",
       "6310  Find out about the culture of sports in Mahara...  Sport  2019   \n",
       "\n",
       "                 age_rating  seasons  episodes type  \n",
       "6177  Star Sports 1 Marathi      1.0      12.0   tv  \n",
       "6189  Star Sports 1 Marathi      1.0      32.0   tv  \n",
       "6310  Star Sports 1 Marathi      1.0       1.0   tv  "
      ]
     },
     "execution_count": 64,
     "metadata": {},
     "output_type": "execute_result"
    }
   ],
   "source": [
    "tv_shows[tv_shows[\"age_rating\"]==\"Star Sports 1 Marathi\"]"
   ]
  },
  {
   "cell_type": "code",
   "execution_count": 65,
   "id": "f2fdfcd3",
   "metadata": {},
   "outputs": [],
   "source": [
    "tv_shows.drop(index=[6177,6189,6310],inplace=True)"
   ]
  },
  {
   "cell_type": "code",
   "execution_count": 66,
   "id": "52e8b4d6",
   "metadata": {},
   "outputs": [
    {
     "data": {
      "text/html": [
       "<div>\n",
       "<style scoped>\n",
       "    .dataframe tbody tr th:only-of-type {\n",
       "        vertical-align: middle;\n",
       "    }\n",
       "\n",
       "    .dataframe tbody tr th {\n",
       "        vertical-align: top;\n",
       "    }\n",
       "\n",
       "    .dataframe thead th {\n",
       "        text-align: right;\n",
       "    }\n",
       "</style>\n",
       "<table border=\"1\" class=\"dataframe\">\n",
       "  <thead>\n",
       "    <tr style=\"text-align: right;\">\n",
       "      <th></th>\n",
       "      <th>hotstar_id</th>\n",
       "      <th>title</th>\n",
       "      <th>description</th>\n",
       "      <th>genre</th>\n",
       "      <th>year</th>\n",
       "      <th>age_rating</th>\n",
       "      <th>seasons</th>\n",
       "      <th>episodes</th>\n",
       "      <th>type</th>\n",
       "    </tr>\n",
       "  </thead>\n",
       "  <tbody>\n",
       "    <tr>\n",
       "      <th>4871</th>\n",
       "      <td>1260008354</td>\n",
       "      <td>Bengaluru Bulls Hero - Rohit Kumar</td>\n",
       "      <td>Hero buildup to Rohit Kumar who prepares for V...</td>\n",
       "      <td>Sport</td>\n",
       "      <td>2019</td>\n",
       "      <td>Star Sports Kannada 1</td>\n",
       "      <td>1.0</td>\n",
       "      <td>1.0</td>\n",
       "      <td>tv</td>\n",
       "    </tr>\n",
       "  </tbody>\n",
       "</table>\n",
       "</div>"
      ],
      "text/plain": [
       "      hotstar_id                               title  \\\n",
       "4871  1260008354  Bengaluru Bulls Hero - Rohit Kumar   \n",
       "\n",
       "                                            description  genre  year  \\\n",
       "4871  Hero buildup to Rohit Kumar who prepares for V...  Sport  2019   \n",
       "\n",
       "                 age_rating  seasons  episodes type  \n",
       "4871  Star Sports Kannada 1      1.0       1.0   tv  "
      ]
     },
     "execution_count": 66,
     "metadata": {},
     "output_type": "execute_result"
    }
   ],
   "source": [
    "tv_shows[tv_shows[\"age_rating\"]==\"Star Sports Kannada 1\"]"
   ]
  },
  {
   "cell_type": "code",
   "execution_count": 67,
   "id": "9145c6c9",
   "metadata": {},
   "outputs": [],
   "source": [
    "tv_shows.drop(index=[4871],inplace=True)"
   ]
  },
  {
   "cell_type": "code",
   "execution_count": 68,
   "id": "042c3f1c",
   "metadata": {},
   "outputs": [
    {
     "data": {
      "text/html": [
       "<div>\n",
       "<style scoped>\n",
       "    .dataframe tbody tr th:only-of-type {\n",
       "        vertical-align: middle;\n",
       "    }\n",
       "\n",
       "    .dataframe tbody tr th {\n",
       "        vertical-align: top;\n",
       "    }\n",
       "\n",
       "    .dataframe thead th {\n",
       "        text-align: right;\n",
       "    }\n",
       "</style>\n",
       "<table border=\"1\" class=\"dataframe\">\n",
       "  <thead>\n",
       "    <tr style=\"text-align: right;\">\n",
       "      <th></th>\n",
       "      <th>hotstar_id</th>\n",
       "      <th>title</th>\n",
       "      <th>description</th>\n",
       "      <th>genre</th>\n",
       "      <th>year</th>\n",
       "      <th>age_rating</th>\n",
       "      <th>seasons</th>\n",
       "      <th>episodes</th>\n",
       "      <th>type</th>\n",
       "    </tr>\n",
       "  </thead>\n",
       "  <tbody>\n",
       "    <tr>\n",
       "      <th>5480</th>\n",
       "      <td>1260008292</td>\n",
       "      <td>PKL Journey 2019 Telugu</td>\n",
       "      <td>Here's a recap of the seasons gone by in VIVO ...</td>\n",
       "      <td>Sport</td>\n",
       "      <td>2019</td>\n",
       "      <td>Star Sports 1 Telugu</td>\n",
       "      <td>1.0</td>\n",
       "      <td>5.0</td>\n",
       "      <td>tv</td>\n",
       "    </tr>\n",
       "  </tbody>\n",
       "</table>\n",
       "</div>"
      ],
      "text/plain": [
       "      hotstar_id                    title  \\\n",
       "5480  1260008292  PKL Journey 2019 Telugu   \n",
       "\n",
       "                                            description  genre  year  \\\n",
       "5480  Here's a recap of the seasons gone by in VIVO ...  Sport  2019   \n",
       "\n",
       "                age_rating  seasons  episodes type  \n",
       "5480  Star Sports 1 Telugu      1.0       5.0   tv  "
      ]
     },
     "execution_count": 68,
     "metadata": {},
     "output_type": "execute_result"
    }
   ],
   "source": [
    "tv_shows[tv_shows[\"age_rating\"]==\"Star Sports 1 Telugu\"]"
   ]
  },
  {
   "cell_type": "code",
   "execution_count": 69,
   "id": "7ea3707f",
   "metadata": {},
   "outputs": [],
   "source": [
    "tv_shows.drop(index=[5480],inplace=True)"
   ]
  },
  {
   "cell_type": "code",
   "execution_count": 70,
   "id": "22067645",
   "metadata": {},
   "outputs": [
    {
     "data": {
      "text/html": [
       "<div>\n",
       "<style scoped>\n",
       "    .dataframe tbody tr th:only-of-type {\n",
       "        vertical-align: middle;\n",
       "    }\n",
       "\n",
       "    .dataframe tbody tr th {\n",
       "        vertical-align: top;\n",
       "    }\n",
       "\n",
       "    .dataframe thead th {\n",
       "        text-align: right;\n",
       "    }\n",
       "</style>\n",
       "<table border=\"1\" class=\"dataframe\">\n",
       "  <thead>\n",
       "    <tr style=\"text-align: right;\">\n",
       "      <th></th>\n",
       "      <th>hotstar_id</th>\n",
       "      <th>title</th>\n",
       "      <th>description</th>\n",
       "      <th>genre</th>\n",
       "      <th>year</th>\n",
       "      <th>age_rating</th>\n",
       "      <th>seasons</th>\n",
       "      <th>episodes</th>\n",
       "      <th>type</th>\n",
       "    </tr>\n",
       "  </thead>\n",
       "  <tbody>\n",
       "    <tr>\n",
       "      <th>5607</th>\n",
       "      <td>7222</td>\n",
       "      <td>Amma</td>\n",
       "      <td>Sukanya has two daughters, Anusha and Shalini,...</td>\n",
       "      <td>Drama</td>\n",
       "      <td>2016</td>\n",
       "      <td>Star Suvarna</td>\n",
       "      <td>10.0</td>\n",
       "      <td>313.0</td>\n",
       "      <td>tv</td>\n",
       "    </tr>\n",
       "  </tbody>\n",
       "</table>\n",
       "</div>"
      ],
      "text/plain": [
       "      hotstar_id title                                        description  \\\n",
       "5607        7222  Amma  Sukanya has two daughters, Anusha and Shalini,...   \n",
       "\n",
       "      genre  year    age_rating  seasons  episodes type  \n",
       "5607  Drama  2016  Star Suvarna     10.0     313.0   tv  "
      ]
     },
     "execution_count": 70,
     "metadata": {},
     "output_type": "execute_result"
    }
   ],
   "source": [
    "tv_shows[tv_shows[\"age_rating\"]==\"Star Suvarna\"]"
   ]
  },
  {
   "cell_type": "code",
   "execution_count": 71,
   "id": "d7bcbd43",
   "metadata": {},
   "outputs": [],
   "source": [
    "tv_shows.drop(index=[5607],inplace=True)"
   ]
  },
  {
   "cell_type": "code",
   "execution_count": 72,
   "id": "a4eb4630",
   "metadata": {},
   "outputs": [
    {
     "data": {
      "text/html": [
       "<div>\n",
       "<style scoped>\n",
       "    .dataframe tbody tr th:only-of-type {\n",
       "        vertical-align: middle;\n",
       "    }\n",
       "\n",
       "    .dataframe tbody tr th {\n",
       "        vertical-align: top;\n",
       "    }\n",
       "\n",
       "    .dataframe thead th {\n",
       "        text-align: right;\n",
       "    }\n",
       "</style>\n",
       "<table border=\"1\" class=\"dataframe\">\n",
       "  <thead>\n",
       "    <tr style=\"text-align: right;\">\n",
       "      <th></th>\n",
       "      <th>hotstar_id</th>\n",
       "      <th>title</th>\n",
       "      <th>description</th>\n",
       "      <th>genre</th>\n",
       "      <th>year</th>\n",
       "      <th>age_rating</th>\n",
       "      <th>seasons</th>\n",
       "      <th>episodes</th>\n",
       "      <th>type</th>\n",
       "    </tr>\n",
       "  </thead>\n",
       "  <tbody>\n",
       "    <tr>\n",
       "      <th>6200</th>\n",
       "      <td>1260002739</td>\n",
       "      <td>Neelakuyil</td>\n",
       "      <td>Tribal girl Chittu is forced to marry journali...</td>\n",
       "      <td>Drama</td>\n",
       "      <td>2018</td>\n",
       "      <td>Star Vijay</td>\n",
       "      <td>1.0</td>\n",
       "      <td>211.0</td>\n",
       "      <td>tv</td>\n",
       "    </tr>\n",
       "  </tbody>\n",
       "</table>\n",
       "</div>"
      ],
      "text/plain": [
       "      hotstar_id       title  \\\n",
       "6200  1260002739  Neelakuyil   \n",
       "\n",
       "                                            description  genre  year  \\\n",
       "6200  Tribal girl Chittu is forced to marry journali...  Drama  2018   \n",
       "\n",
       "      age_rating  seasons  episodes type  \n",
       "6200  Star Vijay      1.0     211.0   tv  "
      ]
     },
     "execution_count": 72,
     "metadata": {},
     "output_type": "execute_result"
    }
   ],
   "source": [
    "tv_shows[tv_shows[\"age_rating\"]==\"Star Vijay\"]"
   ]
  },
  {
   "cell_type": "code",
   "execution_count": 73,
   "id": "9e52e9fd",
   "metadata": {},
   "outputs": [],
   "source": [
    "tv_shows.drop(index=[6200],inplace=True)"
   ]
  },
  {
   "cell_type": "code",
   "execution_count": 74,
   "id": "171e5fc4",
   "metadata": {},
   "outputs": [
    {
     "data": {
      "text/html": [
       "<div>\n",
       "<style scoped>\n",
       "    .dataframe tbody tr th:only-of-type {\n",
       "        vertical-align: middle;\n",
       "    }\n",
       "\n",
       "    .dataframe tbody tr th {\n",
       "        vertical-align: top;\n",
       "    }\n",
       "\n",
       "    .dataframe thead th {\n",
       "        text-align: right;\n",
       "    }\n",
       "</style>\n",
       "<table border=\"1\" class=\"dataframe\">\n",
       "  <thead>\n",
       "    <tr style=\"text-align: right;\">\n",
       "      <th></th>\n",
       "      <th>hotstar_id</th>\n",
       "      <th>title</th>\n",
       "      <th>description</th>\n",
       "      <th>genre</th>\n",
       "      <th>year</th>\n",
       "      <th>age_rating</th>\n",
       "      <th>seasons</th>\n",
       "      <th>episodes</th>\n",
       "      <th>type</th>\n",
       "    </tr>\n",
       "  </thead>\n",
       "  <tbody>\n",
       "    <tr>\n",
       "      <th>6223</th>\n",
       "      <td>1260008646</td>\n",
       "      <td>KBD Juniors 2019 - Finals</td>\n",
       "      <td>Match highlights of Kabaddi Juniors</td>\n",
       "      <td>Sport</td>\n",
       "      <td>2019</td>\n",
       "      <td>Star Sports 2</td>\n",
       "      <td>1.0</td>\n",
       "      <td>11.0</td>\n",
       "      <td>tv</td>\n",
       "    </tr>\n",
       "  </tbody>\n",
       "</table>\n",
       "</div>"
      ],
      "text/plain": [
       "      hotstar_id                      title  \\\n",
       "6223  1260008646  KBD Juniors 2019 - Finals   \n",
       "\n",
       "                              description  genre  year     age_rating  \\\n",
       "6223  Match highlights of Kabaddi Juniors  Sport  2019  Star Sports 2   \n",
       "\n",
       "      seasons  episodes type  \n",
       "6223      1.0      11.0   tv  "
      ]
     },
     "execution_count": 74,
     "metadata": {},
     "output_type": "execute_result"
    }
   ],
   "source": [
    "tv_shows[tv_shows[\"age_rating\"]==\"Star Sports 2\"]"
   ]
  },
  {
   "cell_type": "code",
   "execution_count": 75,
   "id": "2a6f35f0",
   "metadata": {},
   "outputs": [],
   "source": [
    "tv_shows.drop(index=[6223],inplace=True)"
   ]
  },
  {
   "cell_type": "code",
   "execution_count": 76,
   "id": "c66bd4d6",
   "metadata": {},
   "outputs": [
    {
     "data": {
      "text/html": [
       "<div>\n",
       "<style scoped>\n",
       "    .dataframe tbody tr th:only-of-type {\n",
       "        vertical-align: middle;\n",
       "    }\n",
       "\n",
       "    .dataframe tbody tr th {\n",
       "        vertical-align: top;\n",
       "    }\n",
       "\n",
       "    .dataframe thead th {\n",
       "        text-align: right;\n",
       "    }\n",
       "</style>\n",
       "<table border=\"1\" class=\"dataframe\">\n",
       "  <thead>\n",
       "    <tr style=\"text-align: right;\">\n",
       "      <th></th>\n",
       "      <th>hotstar_id</th>\n",
       "      <th>title</th>\n",
       "      <th>description</th>\n",
       "      <th>genre</th>\n",
       "      <th>year</th>\n",
       "      <th>age_rating</th>\n",
       "      <th>seasons</th>\n",
       "      <th>episodes</th>\n",
       "      <th>type</th>\n",
       "    </tr>\n",
       "  </thead>\n",
       "  <tbody>\n",
       "    <tr>\n",
       "      <th>6347</th>\n",
       "      <td>1260008558</td>\n",
       "      <td>Total KBD Raid On 2019 Hindi</td>\n",
       "      <td>Your guide to VIVO Pro Kabaddi 2019</td>\n",
       "      <td>Sport</td>\n",
       "      <td>2019</td>\n",
       "      <td>Star Sports Hindi 1</td>\n",
       "      <td>1.0</td>\n",
       "      <td>67.0</td>\n",
       "      <td>tv</td>\n",
       "    </tr>\n",
       "  </tbody>\n",
       "</table>\n",
       "</div>"
      ],
      "text/plain": [
       "      hotstar_id                         title  \\\n",
       "6347  1260008558  Total KBD Raid On 2019 Hindi   \n",
       "\n",
       "                              description  genre  year           age_rating  \\\n",
       "6347  Your guide to VIVO Pro Kabaddi 2019  Sport  2019  Star Sports Hindi 1   \n",
       "\n",
       "      seasons  episodes type  \n",
       "6347      1.0      67.0   tv  "
      ]
     },
     "execution_count": 76,
     "metadata": {},
     "output_type": "execute_result"
    }
   ],
   "source": [
    "tv_shows[tv_shows[\"age_rating\"]==\"Star Sports Hindi 1\"]"
   ]
  },
  {
   "cell_type": "code",
   "execution_count": 77,
   "id": "e9c33063",
   "metadata": {},
   "outputs": [],
   "source": [
    "tv_shows.drop(index=[6347],inplace=True)"
   ]
  },
  {
   "cell_type": "code",
   "execution_count": 78,
   "id": "c38e844b",
   "metadata": {},
   "outputs": [
    {
     "data": {
      "text/plain": [
       "array(['U/A 13+', 'U/A 7+', 'U/A 16+', 'PG', 'U', 'G', 'A', '15+', '12+'],\n",
       "      dtype=object)"
      ]
     },
     "execution_count": 78,
     "metadata": {},
     "output_type": "execute_result"
    }
   ],
   "source": [
    "tv_shows[\"age_rating\"].unique()"
   ]
  },
  {
   "cell_type": "code",
   "execution_count": 79,
   "id": "2f8008ee",
   "metadata": {},
   "outputs": [],
   "source": [
    "tv_shows[\"age_rating\"]=tv_shows[\"age_rating\"].str.replace(\"+\",\"\")"
   ]
  },
  {
   "cell_type": "code",
   "execution_count": 80,
   "id": "107085a1",
   "metadata": {},
   "outputs": [],
   "source": [
    "tv_shows[\"age_rating\"]=tv_shows[\"age_rating\"].str.replace(\"U/A\",\"\")"
   ]
  },
  {
   "cell_type": "code",
   "execution_count": 81,
   "id": "f7dce43a",
   "metadata": {},
   "outputs": [],
   "source": [
    "tv_shows[\"age_rating\"]=tv_shows[\"age_rating\"].str.replace(\"PG\",\"14\")"
   ]
  },
  {
   "cell_type": "code",
   "execution_count": 82,
   "id": "7764dc28",
   "metadata": {},
   "outputs": [],
   "source": [
    "tv_shows[\"age_rating\"]=tv_shows[\"age_rating\"].str.replace(\"A\",\"18\")"
   ]
  },
  {
   "cell_type": "code",
   "execution_count": 83,
   "id": "f4c45c3d",
   "metadata": {},
   "outputs": [],
   "source": [
    "tv_shows[\"age_rating\"]=tv_shows[\"age_rating\"].str.replace(\"G\",\"4\")"
   ]
  },
  {
   "cell_type": "code",
   "execution_count": 84,
   "id": "78d87f3b",
   "metadata": {},
   "outputs": [],
   "source": [
    "tv_shows[\"age_rating\"]=tv_shows[\"age_rating\"].str.replace(\"U\",\"4\")"
   ]
  },
  {
   "cell_type": "code",
   "execution_count": 85,
   "id": "4845c62c",
   "metadata": {},
   "outputs": [],
   "source": [
    "tv_shows[\"age_rating\"]=tv_shows[\"age_rating\"].astype(\"int\")"
   ]
  },
  {
   "cell_type": "code",
   "execution_count": 86,
   "id": "195c45c9",
   "metadata": {},
   "outputs": [
    {
     "data": {
      "text/html": [
       "<div>\n",
       "<style scoped>\n",
       "    .dataframe tbody tr th:only-of-type {\n",
       "        vertical-align: middle;\n",
       "    }\n",
       "\n",
       "    .dataframe tbody tr th {\n",
       "        vertical-align: top;\n",
       "    }\n",
       "\n",
       "    .dataframe thead th {\n",
       "        text-align: right;\n",
       "    }\n",
       "</style>\n",
       "<table border=\"1\" class=\"dataframe\">\n",
       "  <thead>\n",
       "    <tr style=\"text-align: right;\">\n",
       "      <th></th>\n",
       "      <th>hotstar_id</th>\n",
       "      <th>title</th>\n",
       "      <th>description</th>\n",
       "      <th>genre</th>\n",
       "      <th>year</th>\n",
       "      <th>age_rating</th>\n",
       "      <th>seasons</th>\n",
       "      <th>episodes</th>\n",
       "      <th>type</th>\n",
       "    </tr>\n",
       "  </thead>\n",
       "  <tbody>\n",
       "    <tr>\n",
       "      <th>4188</th>\n",
       "      <td>9567</td>\n",
       "      <td>Ishqbaaz</td>\n",
       "      <td>Brothers Shivaay, Omkara and Rudra share an un...</td>\n",
       "      <td>Family</td>\n",
       "      <td>2016</td>\n",
       "      <td>13</td>\n",
       "      <td>13.0</td>\n",
       "      <td>758.0</td>\n",
       "      <td>tv</td>\n",
       "    </tr>\n",
       "    <tr>\n",
       "      <th>4189</th>\n",
       "      <td>1260068051</td>\n",
       "      <td>Aay Tobe Sohochori</td>\n",
       "      <td>Homemaker Sohochori is loved by her family, bu...</td>\n",
       "      <td>Drama</td>\n",
       "      <td>2021</td>\n",
       "      <td>13</td>\n",
       "      <td>1.0</td>\n",
       "      <td>302.0</td>\n",
       "      <td>tv</td>\n",
       "    </tr>\n",
       "    <tr>\n",
       "      <th>4190</th>\n",
       "      <td>5406</td>\n",
       "      <td>Mandal Bhari Aahe</td>\n",
       "      <td>Mitra Mandals stand for unity, faith and celeb...</td>\n",
       "      <td>Reality</td>\n",
       "      <td>2015</td>\n",
       "      <td>7</td>\n",
       "      <td>3.0</td>\n",
       "      <td>57.0</td>\n",
       "      <td>tv</td>\n",
       "    </tr>\n",
       "    <tr>\n",
       "      <th>4191</th>\n",
       "      <td>8205</td>\n",
       "      <td>Veep</td>\n",
       "      <td>Former Senator Selina Meyer finds that being V...</td>\n",
       "      <td>Comedy</td>\n",
       "      <td>2012</td>\n",
       "      <td>16</td>\n",
       "      <td>7.0</td>\n",
       "      <td>65.0</td>\n",
       "      <td>tv</td>\n",
       "    </tr>\n",
       "    <tr>\n",
       "      <th>4192</th>\n",
       "      <td>1260004920</td>\n",
       "      <td>Road to Finals: VIVO IPL 2019</td>\n",
       "      <td>Recap of the road to finals for the 2 teams in...</td>\n",
       "      <td>Sport</td>\n",
       "      <td>2019</td>\n",
       "      <td>14</td>\n",
       "      <td>1.0</td>\n",
       "      <td>2.0</td>\n",
       "      <td>tv</td>\n",
       "    </tr>\n",
       "    <tr>\n",
       "      <th>...</th>\n",
       "      <td>...</td>\n",
       "      <td>...</td>\n",
       "      <td>...</td>\n",
       "      <td>...</td>\n",
       "      <td>...</td>\n",
       "      <td>...</td>\n",
       "      <td>...</td>\n",
       "      <td>...</td>\n",
       "      <td>...</td>\n",
       "    </tr>\n",
       "    <tr>\n",
       "      <th>6354</th>\n",
       "      <td>18211</td>\n",
       "      <td>MS Dhoni - Reimagined Hindi</td>\n",
       "      <td>MS Dhoni's career reimagined, watch streaming ...</td>\n",
       "      <td>Sport</td>\n",
       "      <td>2018</td>\n",
       "      <td>13</td>\n",
       "      <td>1.0</td>\n",
       "      <td>1.0</td>\n",
       "      <td>tv</td>\n",
       "    </tr>\n",
       "    <tr>\n",
       "      <th>6355</th>\n",
       "      <td>1260063600</td>\n",
       "      <td>Sasneham</td>\n",
       "      <td>An old-age home reunites past lovers Indira an...</td>\n",
       "      <td>Drama</td>\n",
       "      <td>2021</td>\n",
       "      <td>13</td>\n",
       "      <td>1.0</td>\n",
       "      <td>345.0</td>\n",
       "      <td>tv</td>\n",
       "    </tr>\n",
       "    <tr>\n",
       "      <th>6356</th>\n",
       "      <td>1260071152</td>\n",
       "      <td>Bolo Ambe Maa Ki Jai</td>\n",
       "      <td>Narrated by Saptarishi, celebrate Navratri wit...</td>\n",
       "      <td>Mythology</td>\n",
       "      <td>2021</td>\n",
       "      <td>13</td>\n",
       "      <td>1.0</td>\n",
       "      <td>5.0</td>\n",
       "      <td>tv</td>\n",
       "    </tr>\n",
       "    <tr>\n",
       "      <th>6357</th>\n",
       "      <td>1260002656</td>\n",
       "      <td>Ambi Ning Vaisaytho Specials</td>\n",
       "      <td>Catch all the fun, gossips, and anecdotes from...</td>\n",
       "      <td>Reality</td>\n",
       "      <td>2018</td>\n",
       "      <td>4</td>\n",
       "      <td>1.0</td>\n",
       "      <td>1.0</td>\n",
       "      <td>tv</td>\n",
       "    </tr>\n",
       "    <tr>\n",
       "      <th>6358</th>\n",
       "      <td>1260003179</td>\n",
       "      <td>Dil Toh Happy Hai Ji</td>\n",
       "      <td>Based in Amritsar, this is a joyful tale of fr...</td>\n",
       "      <td>Drama</td>\n",
       "      <td>2019</td>\n",
       "      <td>13</td>\n",
       "      <td>1.0</td>\n",
       "      <td>148.0</td>\n",
       "      <td>tv</td>\n",
       "    </tr>\n",
       "  </tbody>\n",
       "</table>\n",
       "<p>2148 rows × 9 columns</p>\n",
       "</div>"
      ],
      "text/plain": [
       "      hotstar_id                          title  \\\n",
       "4188        9567                       Ishqbaaz   \n",
       "4189  1260068051             Aay Tobe Sohochori   \n",
       "4190        5406              Mandal Bhari Aahe   \n",
       "4191        8205                           Veep   \n",
       "4192  1260004920  Road to Finals: VIVO IPL 2019   \n",
       "...          ...                            ...   \n",
       "6354       18211    MS Dhoni - Reimagined Hindi   \n",
       "6355  1260063600                       Sasneham   \n",
       "6356  1260071152           Bolo Ambe Maa Ki Jai   \n",
       "6357  1260002656   Ambi Ning Vaisaytho Specials   \n",
       "6358  1260003179           Dil Toh Happy Hai Ji   \n",
       "\n",
       "                                            description      genre  year  \\\n",
       "4188  Brothers Shivaay, Omkara and Rudra share an un...     Family  2016   \n",
       "4189  Homemaker Sohochori is loved by her family, bu...      Drama  2021   \n",
       "4190  Mitra Mandals stand for unity, faith and celeb...    Reality  2015   \n",
       "4191  Former Senator Selina Meyer finds that being V...     Comedy  2012   \n",
       "4192  Recap of the road to finals for the 2 teams in...      Sport  2019   \n",
       "...                                                 ...        ...   ...   \n",
       "6354  MS Dhoni's career reimagined, watch streaming ...      Sport  2018   \n",
       "6355  An old-age home reunites past lovers Indira an...      Drama  2021   \n",
       "6356  Narrated by Saptarishi, celebrate Navratri wit...  Mythology  2021   \n",
       "6357  Catch all the fun, gossips, and anecdotes from...    Reality  2018   \n",
       "6358  Based in Amritsar, this is a joyful tale of fr...      Drama  2019   \n",
       "\n",
       "      age_rating  seasons  episodes type  \n",
       "4188          13     13.0     758.0   tv  \n",
       "4189          13      1.0     302.0   tv  \n",
       "4190           7      3.0      57.0   tv  \n",
       "4191          16      7.0      65.0   tv  \n",
       "4192          14      1.0       2.0   tv  \n",
       "...          ...      ...       ...  ...  \n",
       "6354          13      1.0       1.0   tv  \n",
       "6355          13      1.0     345.0   tv  \n",
       "6356          13      1.0       5.0   tv  \n",
       "6357           4      1.0       1.0   tv  \n",
       "6358          13      1.0     148.0   tv  \n",
       "\n",
       "[2148 rows x 9 columns]"
      ]
     },
     "execution_count": 86,
     "metadata": {},
     "output_type": "execute_result"
    }
   ],
   "source": [
    "tv_shows"
   ]
  },
  {
   "cell_type": "code",
   "execution_count": 87,
   "id": "2c4b04e7",
   "metadata": {},
   "outputs": [
    {
     "data": {
      "image/png": "[encoded data removed]",
      "text/plain": [
       "<Figure size 720x720 with 1 Axes>"
      ]
     },
     "metadata": {},
     "output_type": "display_data"
    }
   ],
   "source": [
    "plt.figure(figsize=(10,10))\n",
    "tv_shows[\"age_rating\"].value_counts().plot.pie(autopct=\"%1.2f%%\",explode=[0.1,0,0,0,0,0,0,0],radius=1.2)\n",
    "plt.show()"
   ]
  },
  {
   "cell_type": "markdown",
   "id": "bdf1805c",
   "metadata": {},
   "source": [
    "In Hotstar Tv show Category the highest percent of tv shows are listed for the age group of 13 which is 43.90% "
   ]
  },
  {
   "cell_type": "code",
   "execution_count": 88,
   "id": "80415619",
   "metadata": {},
   "outputs": [
    {
     "data": {
      "image/png": "[encoded data removed]",
      "text/plain": [
       "<Figure size 1080x720 with 1 Axes>"
      ]
     },
     "metadata": {
      "needs_background": "light"
     },
     "output_type": "display_data"
    },
    {
     "name": "stdout",
     "output_type": "stream",
     "text": [
      "Top 5 Categories of Tv Shows which has been listed on hotstar:\n",
      " Drama      451\n",
      "Reality    376\n",
      "Comedy     251\n",
      "Sport      206\n",
      "Romance    139\n",
      "Name: genre, dtype: int64\n"
     ]
    }
   ],
   "source": [
    "plt.figure(figsize=(15,10))\n",
    "sns.countplot(\"genre\",data=tv_shows)\n",
    "plt.xticks(rotation=90)\n",
    "plt.show()\n",
    "\n",
    "print(\"Top 5 Categories of Tv Shows which has been listed on hotstar:\\n\",tv_shows.genre.value_counts().nlargest(5))"
   ]
  },
  {
   "cell_type": "code",
   "execution_count": 89,
   "id": "75b44369",
   "metadata": {},
   "outputs": [],
   "source": [
    "shows_per_seasons=tv_shows[[\"title\",\"genre\",\"seasons\",\"episodes\"]]"
   ]
  },
  {
   "cell_type": "code",
   "execution_count": 90,
   "id": "ce5cc1d7",
   "metadata": {},
   "outputs": [
    {
     "data": {
      "text/html": [
       "<div>\n",
       "<style scoped>\n",
       "    .dataframe tbody tr th:only-of-type {\n",
       "        vertical-align: middle;\n",
       "    }\n",
       "\n",
       "    .dataframe tbody tr th {\n",
       "        vertical-align: top;\n",
       "    }\n",
       "\n",
       "    .dataframe thead th {\n",
       "        text-align: right;\n",
       "    }\n",
       "</style>\n",
       "<table border=\"1\" class=\"dataframe\">\n",
       "  <thead>\n",
       "    <tr style=\"text-align: right;\">\n",
       "      <th></th>\n",
       "      <th>title</th>\n",
       "      <th>genre</th>\n",
       "      <th>seasons</th>\n",
       "      <th>episodes</th>\n",
       "    </tr>\n",
       "  </thead>\n",
       "  <tbody>\n",
       "    <tr>\n",
       "      <th>4188</th>\n",
       "      <td>Ishqbaaz</td>\n",
       "      <td>Family</td>\n",
       "      <td>13.0</td>\n",
       "      <td>758.0</td>\n",
       "    </tr>\n",
       "    <tr>\n",
       "      <th>4189</th>\n",
       "      <td>Aay Tobe Sohochori</td>\n",
       "      <td>Drama</td>\n",
       "      <td>1.0</td>\n",
       "      <td>302.0</td>\n",
       "    </tr>\n",
       "    <tr>\n",
       "      <th>4190</th>\n",
       "      <td>Mandal Bhari Aahe</td>\n",
       "      <td>Reality</td>\n",
       "      <td>3.0</td>\n",
       "      <td>57.0</td>\n",
       "    </tr>\n",
       "    <tr>\n",
       "      <th>4191</th>\n",
       "      <td>Veep</td>\n",
       "      <td>Comedy</td>\n",
       "      <td>7.0</td>\n",
       "      <td>65.0</td>\n",
       "    </tr>\n",
       "    <tr>\n",
       "      <th>4192</th>\n",
       "      <td>Road to Finals: VIVO IPL 2019</td>\n",
       "      <td>Sport</td>\n",
       "      <td>1.0</td>\n",
       "      <td>2.0</td>\n",
       "    </tr>\n",
       "    <tr>\n",
       "      <th>...</th>\n",
       "      <td>...</td>\n",
       "      <td>...</td>\n",
       "      <td>...</td>\n",
       "      <td>...</td>\n",
       "    </tr>\n",
       "    <tr>\n",
       "      <th>6354</th>\n",
       "      <td>MS Dhoni - Reimagined Hindi</td>\n",
       "      <td>Sport</td>\n",
       "      <td>1.0</td>\n",
       "      <td>1.0</td>\n",
       "    </tr>\n",
       "    <tr>\n",
       "      <th>6355</th>\n",
       "      <td>Sasneham</td>\n",
       "      <td>Drama</td>\n",
       "      <td>1.0</td>\n",
       "      <td>345.0</td>\n",
       "    </tr>\n",
       "    <tr>\n",
       "      <th>6356</th>\n",
       "      <td>Bolo Ambe Maa Ki Jai</td>\n",
       "      <td>Mythology</td>\n",
       "      <td>1.0</td>\n",
       "      <td>5.0</td>\n",
       "    </tr>\n",
       "    <tr>\n",
       "      <th>6357</th>\n",
       "      <td>Ambi Ning Vaisaytho Specials</td>\n",
       "      <td>Reality</td>\n",
       "      <td>1.0</td>\n",
       "      <td>1.0</td>\n",
       "    </tr>\n",
       "    <tr>\n",
       "      <th>6358</th>\n",
       "      <td>Dil Toh Happy Hai Ji</td>\n",
       "      <td>Drama</td>\n",
       "      <td>1.0</td>\n",
       "      <td>148.0</td>\n",
       "    </tr>\n",
       "  </tbody>\n",
       "</table>\n",
       "<p>2148 rows × 4 columns</p>\n",
       "</div>"
      ],
      "text/plain": [
       "                              title      genre  seasons  episodes\n",
       "4188                       Ishqbaaz     Family     13.0     758.0\n",
       "4189             Aay Tobe Sohochori      Drama      1.0     302.0\n",
       "4190              Mandal Bhari Aahe    Reality      3.0      57.0\n",
       "4191                           Veep     Comedy      7.0      65.0\n",
       "4192  Road to Finals: VIVO IPL 2019      Sport      1.0       2.0\n",
       "...                             ...        ...      ...       ...\n",
       "6354    MS Dhoni - Reimagined Hindi      Sport      1.0       1.0\n",
       "6355                       Sasneham      Drama      1.0     345.0\n",
       "6356           Bolo Ambe Maa Ki Jai  Mythology      1.0       5.0\n",
       "6357   Ambi Ning Vaisaytho Specials    Reality      1.0       1.0\n",
       "6358           Dil Toh Happy Hai Ji      Drama      1.0     148.0\n",
       "\n",
       "[2148 rows x 4 columns]"
      ]
     },
     "execution_count": 90,
     "metadata": {},
     "output_type": "execute_result"
    }
   ],
   "source": [
    "shows_per_seasons"
   ]
  },
  {
   "cell_type": "code",
   "execution_count": 91,
   "id": "c6224aa0",
   "metadata": {},
   "outputs": [
    {
     "data": {
      "text/html": [
       "<div>\n",
       "<style scoped>\n",
       "    .dataframe tbody tr th:only-of-type {\n",
       "        vertical-align: middle;\n",
       "    }\n",
       "\n",
       "    .dataframe tbody tr th {\n",
       "        vertical-align: top;\n",
       "    }\n",
       "\n",
       "    .dataframe thead th {\n",
       "        text-align: right;\n",
       "    }\n",
       "</style>\n",
       "<table border=\"1\" class=\"dataframe\">\n",
       "  <thead>\n",
       "    <tr style=\"text-align: right;\">\n",
       "      <th></th>\n",
       "      <th>title</th>\n",
       "      <th>genre</th>\n",
       "      <th>seasons</th>\n",
       "      <th>episodes</th>\n",
       "    </tr>\n",
       "  </thead>\n",
       "  <tbody>\n",
       "    <tr>\n",
       "      <th>5269</th>\n",
       "      <td>Guddi</td>\n",
       "      <td>Drama</td>\n",
       "      <td>1.0</td>\n",
       "      <td>136.0</td>\n",
       "    </tr>\n",
       "    <tr>\n",
       "      <th>5482</th>\n",
       "      <td>Comedy Stars Plus</td>\n",
       "      <td>Comedy</td>\n",
       "      <td>1.0</td>\n",
       "      <td>26.0</td>\n",
       "    </tr>\n",
       "    <tr>\n",
       "      <th>5481</th>\n",
       "      <td>Ultimate Supercar</td>\n",
       "      <td>Science</td>\n",
       "      <td>1.0</td>\n",
       "      <td>6.0</td>\n",
       "    </tr>\n",
       "    <tr>\n",
       "      <th>5479</th>\n",
       "      <td>Fish Hooks</td>\n",
       "      <td>Comedy</td>\n",
       "      <td>1.0</td>\n",
       "      <td>21.0</td>\n",
       "    </tr>\n",
       "    <tr>\n",
       "      <th>5477</th>\n",
       "      <td>Spider-Man Unlimited</td>\n",
       "      <td>Kids</td>\n",
       "      <td>1.0</td>\n",
       "      <td>13.0</td>\n",
       "    </tr>\n",
       "    <tr>\n",
       "      <th>...</th>\n",
       "      <td>...</td>\n",
       "      <td>...</td>\n",
       "      <td>...</td>\n",
       "      <td>...</td>\n",
       "    </tr>\n",
       "    <tr>\n",
       "      <th>4293</th>\n",
       "      <td>Amruthavarshini - 2012</td>\n",
       "      <td>Romance</td>\n",
       "      <td>43.0</td>\n",
       "      <td>1724.0</td>\n",
       "    </tr>\n",
       "    <tr>\n",
       "      <th>5372</th>\n",
       "      <td>Pudhcha Paaul</td>\n",
       "      <td>Family</td>\n",
       "      <td>45.0</td>\n",
       "      <td>1944.0</td>\n",
       "    </tr>\n",
       "    <tr>\n",
       "      <th>4720</th>\n",
       "      <td>Lakshya</td>\n",
       "      <td>Crime</td>\n",
       "      <td>53.0</td>\n",
       "      <td>1226.0</td>\n",
       "    </tr>\n",
       "    <tr>\n",
       "      <th>5373</th>\n",
       "      <td>Yeh Rishta Kya Kehlata Hai</td>\n",
       "      <td>Drama</td>\n",
       "      <td>67.0</td>\n",
       "      <td>3792.0</td>\n",
       "    </tr>\n",
       "    <tr>\n",
       "      <th>4746</th>\n",
       "      <td>Savdhaan India</td>\n",
       "      <td>Crime</td>\n",
       "      <td>73.0</td>\n",
       "      <td>2354.0</td>\n",
       "    </tr>\n",
       "  </tbody>\n",
       "</table>\n",
       "<p>2148 rows × 4 columns</p>\n",
       "</div>"
      ],
      "text/plain": [
       "                           title    genre  seasons  episodes\n",
       "5269                       Guddi    Drama      1.0     136.0\n",
       "5482           Comedy Stars Plus   Comedy      1.0      26.0\n",
       "5481           Ultimate Supercar  Science      1.0       6.0\n",
       "5479                  Fish Hooks   Comedy      1.0      21.0\n",
       "5477        Spider-Man Unlimited     Kids      1.0      13.0\n",
       "...                          ...      ...      ...       ...\n",
       "4293      Amruthavarshini - 2012  Romance     43.0    1724.0\n",
       "5372               Pudhcha Paaul   Family     45.0    1944.0\n",
       "4720                     Lakshya    Crime     53.0    1226.0\n",
       "5373  Yeh Rishta Kya Kehlata Hai    Drama     67.0    3792.0\n",
       "4746              Savdhaan India    Crime     73.0    2354.0\n",
       "\n",
       "[2148 rows x 4 columns]"
      ]
     },
     "execution_count": 91,
     "metadata": {},
     "output_type": "execute_result"
    }
   ],
   "source": [
    "shows_per_seasons.sort_values(by=[\"seasons\"])"
   ]
  },
  {
   "cell_type": "code",
   "execution_count": 92,
   "id": "a58eafa6",
   "metadata": {},
   "outputs": [],
   "source": [
    "# In Hotstar Tv Show Category the highest no of season is 73 which is having 2354 episodes which comes under crime genre."
   ]
  },
  {
   "cell_type": "code",
   "execution_count": 93,
   "id": "5bf91e87",
   "metadata": {},
   "outputs": [],
   "source": [
    "shows_per_episodes=tv_shows[[\"title\",\"genre\",\"seasons\",\"episodes\"]]"
   ]
  },
  {
   "cell_type": "code",
   "execution_count": 94,
   "id": "826aacc5",
   "metadata": {},
   "outputs": [
    {
     "data": {
      "text/html": [
       "<div>\n",
       "<style scoped>\n",
       "    .dataframe tbody tr th:only-of-type {\n",
       "        vertical-align: middle;\n",
       "    }\n",
       "\n",
       "    .dataframe tbody tr th {\n",
       "        vertical-align: top;\n",
       "    }\n",
       "\n",
       "    .dataframe thead th {\n",
       "        text-align: right;\n",
       "    }\n",
       "</style>\n",
       "<table border=\"1\" class=\"dataframe\">\n",
       "  <thead>\n",
       "    <tr style=\"text-align: right;\">\n",
       "      <th></th>\n",
       "      <th>title</th>\n",
       "      <th>genre</th>\n",
       "      <th>seasons</th>\n",
       "      <th>episodes</th>\n",
       "    </tr>\n",
       "  </thead>\n",
       "  <tbody>\n",
       "    <tr>\n",
       "      <th>4188</th>\n",
       "      <td>Ishqbaaz</td>\n",
       "      <td>Family</td>\n",
       "      <td>13.0</td>\n",
       "      <td>758.0</td>\n",
       "    </tr>\n",
       "    <tr>\n",
       "      <th>4189</th>\n",
       "      <td>Aay Tobe Sohochori</td>\n",
       "      <td>Drama</td>\n",
       "      <td>1.0</td>\n",
       "      <td>302.0</td>\n",
       "    </tr>\n",
       "    <tr>\n",
       "      <th>4190</th>\n",
       "      <td>Mandal Bhari Aahe</td>\n",
       "      <td>Reality</td>\n",
       "      <td>3.0</td>\n",
       "      <td>57.0</td>\n",
       "    </tr>\n",
       "    <tr>\n",
       "      <th>4191</th>\n",
       "      <td>Veep</td>\n",
       "      <td>Comedy</td>\n",
       "      <td>7.0</td>\n",
       "      <td>65.0</td>\n",
       "    </tr>\n",
       "    <tr>\n",
       "      <th>4192</th>\n",
       "      <td>Road to Finals: VIVO IPL 2019</td>\n",
       "      <td>Sport</td>\n",
       "      <td>1.0</td>\n",
       "      <td>2.0</td>\n",
       "    </tr>\n",
       "    <tr>\n",
       "      <th>...</th>\n",
       "      <td>...</td>\n",
       "      <td>...</td>\n",
       "      <td>...</td>\n",
       "      <td>...</td>\n",
       "    </tr>\n",
       "    <tr>\n",
       "      <th>6354</th>\n",
       "      <td>MS Dhoni - Reimagined Hindi</td>\n",
       "      <td>Sport</td>\n",
       "      <td>1.0</td>\n",
       "      <td>1.0</td>\n",
       "    </tr>\n",
       "    <tr>\n",
       "      <th>6355</th>\n",
       "      <td>Sasneham</td>\n",
       "      <td>Drama</td>\n",
       "      <td>1.0</td>\n",
       "      <td>345.0</td>\n",
       "    </tr>\n",
       "    <tr>\n",
       "      <th>6356</th>\n",
       "      <td>Bolo Ambe Maa Ki Jai</td>\n",
       "      <td>Mythology</td>\n",
       "      <td>1.0</td>\n",
       "      <td>5.0</td>\n",
       "    </tr>\n",
       "    <tr>\n",
       "      <th>6357</th>\n",
       "      <td>Ambi Ning Vaisaytho Specials</td>\n",
       "      <td>Reality</td>\n",
       "      <td>1.0</td>\n",
       "      <td>1.0</td>\n",
       "    </tr>\n",
       "    <tr>\n",
       "      <th>6358</th>\n",
       "      <td>Dil Toh Happy Hai Ji</td>\n",
       "      <td>Drama</td>\n",
       "      <td>1.0</td>\n",
       "      <td>148.0</td>\n",
       "    </tr>\n",
       "  </tbody>\n",
       "</table>\n",
       "<p>2148 rows × 4 columns</p>\n",
       "</div>"
      ],
      "text/plain": [
       "                              title      genre  seasons  episodes\n",
       "4188                       Ishqbaaz     Family     13.0     758.0\n",
       "4189             Aay Tobe Sohochori      Drama      1.0     302.0\n",
       "4190              Mandal Bhari Aahe    Reality      3.0      57.0\n",
       "4191                           Veep     Comedy      7.0      65.0\n",
       "4192  Road to Finals: VIVO IPL 2019      Sport      1.0       2.0\n",
       "...                             ...        ...      ...       ...\n",
       "6354    MS Dhoni - Reimagined Hindi      Sport      1.0       1.0\n",
       "6355                       Sasneham      Drama      1.0     345.0\n",
       "6356           Bolo Ambe Maa Ki Jai  Mythology      1.0       5.0\n",
       "6357   Ambi Ning Vaisaytho Specials    Reality      1.0       1.0\n",
       "6358           Dil Toh Happy Hai Ji      Drama      1.0     148.0\n",
       "\n",
       "[2148 rows x 4 columns]"
      ]
     },
     "execution_count": 94,
     "metadata": {},
     "output_type": "execute_result"
    }
   ],
   "source": [
    "shows_per_episodes"
   ]
  },
  {
   "cell_type": "code",
   "execution_count": 95,
   "id": "b69e6d65",
   "metadata": {},
   "outputs": [
    {
     "data": {
      "text/html": [
       "<div>\n",
       "<style scoped>\n",
       "    .dataframe tbody tr th:only-of-type {\n",
       "        vertical-align: middle;\n",
       "    }\n",
       "\n",
       "    .dataframe tbody tr th {\n",
       "        vertical-align: top;\n",
       "    }\n",
       "\n",
       "    .dataframe thead th {\n",
       "        text-align: right;\n",
       "    }\n",
       "</style>\n",
       "<table border=\"1\" class=\"dataframe\">\n",
       "  <thead>\n",
       "    <tr style=\"text-align: right;\">\n",
       "      <th></th>\n",
       "      <th>title</th>\n",
       "      <th>genre</th>\n",
       "      <th>seasons</th>\n",
       "      <th>episodes</th>\n",
       "    </tr>\n",
       "  </thead>\n",
       "  <tbody>\n",
       "    <tr>\n",
       "      <th>4713</th>\n",
       "      <td>Suvarna Mahotsava</td>\n",
       "      <td>Reality</td>\n",
       "      <td>1.0</td>\n",
       "      <td>1.0</td>\n",
       "    </tr>\n",
       "    <tr>\n",
       "      <th>5551</th>\n",
       "      <td>90s Kids Vs 2K Kids</td>\n",
       "      <td>Reality</td>\n",
       "      <td>1.0</td>\n",
       "      <td>1.0</td>\n",
       "    </tr>\n",
       "    <tr>\n",
       "      <th>6195</th>\n",
       "      <td>Unda - The Success Story</td>\n",
       "      <td>Talk Show</td>\n",
       "      <td>1.0</td>\n",
       "      <td>1.0</td>\n",
       "    </tr>\n",
       "    <tr>\n",
       "      <th>4693</th>\n",
       "      <td>Montage Kallayi FM Specials</td>\n",
       "      <td>Reality</td>\n",
       "      <td>1.0</td>\n",
       "      <td>1.0</td>\n",
       "    </tr>\n",
       "    <tr>\n",
       "      <th>4684</th>\n",
       "      <td>Star Jodigal</td>\n",
       "      <td>Reality</td>\n",
       "      <td>1.0</td>\n",
       "      <td>1.0</td>\n",
       "    </tr>\n",
       "    <tr>\n",
       "      <th>...</th>\n",
       "      <td>...</td>\n",
       "      <td>...</td>\n",
       "      <td>...</td>\n",
       "      <td>...</td>\n",
       "    </tr>\n",
       "    <tr>\n",
       "      <th>5490</th>\n",
       "      <td>Yeh Hai Mohabbatein</td>\n",
       "      <td>Romance</td>\n",
       "      <td>43.0</td>\n",
       "      <td>1895.0</td>\n",
       "    </tr>\n",
       "    <tr>\n",
       "      <th>5372</th>\n",
       "      <td>Pudhcha Paaul</td>\n",
       "      <td>Family</td>\n",
       "      <td>45.0</td>\n",
       "      <td>1944.0</td>\n",
       "    </tr>\n",
       "    <tr>\n",
       "      <th>4746</th>\n",
       "      <td>Savdhaan India</td>\n",
       "      <td>Crime</td>\n",
       "      <td>73.0</td>\n",
       "      <td>2354.0</td>\n",
       "    </tr>\n",
       "    <tr>\n",
       "      <th>6291</th>\n",
       "      <td>Saath Nibhaana Saathiya 2</td>\n",
       "      <td>Family</td>\n",
       "      <td>3.0</td>\n",
       "      <td>2732.0</td>\n",
       "    </tr>\n",
       "    <tr>\n",
       "      <th>5373</th>\n",
       "      <td>Yeh Rishta Kya Kehlata Hai</td>\n",
       "      <td>Drama</td>\n",
       "      <td>67.0</td>\n",
       "      <td>3792.0</td>\n",
       "    </tr>\n",
       "  </tbody>\n",
       "</table>\n",
       "<p>2148 rows × 4 columns</p>\n",
       "</div>"
      ],
      "text/plain": [
       "                            title      genre  seasons  episodes\n",
       "4713            Suvarna Mahotsava    Reality      1.0       1.0\n",
       "5551          90s Kids Vs 2K Kids    Reality      1.0       1.0\n",
       "6195     Unda - The Success Story  Talk Show      1.0       1.0\n",
       "4693  Montage Kallayi FM Specials    Reality      1.0       1.0\n",
       "4684                 Star Jodigal    Reality      1.0       1.0\n",
       "...                           ...        ...      ...       ...\n",
       "5490          Yeh Hai Mohabbatein    Romance     43.0    1895.0\n",
       "5372                Pudhcha Paaul     Family     45.0    1944.0\n",
       "4746               Savdhaan India      Crime     73.0    2354.0\n",
       "6291    Saath Nibhaana Saathiya 2     Family      3.0    2732.0\n",
       "5373   Yeh Rishta Kya Kehlata Hai      Drama     67.0    3792.0\n",
       "\n",
       "[2148 rows x 4 columns]"
      ]
     },
     "execution_count": 95,
     "metadata": {},
     "output_type": "execute_result"
    }
   ],
   "source": [
    "shows_per_episodes.sort_values(by=[\"episodes\"])"
   ]
  },
  {
   "cell_type": "code",
   "execution_count": 96,
   "id": "c51f7d02",
   "metadata": {},
   "outputs": [],
   "source": [
    "# In Hotstar Tv Show Category the highest no of Episodes is 3792 which is having 67 seasons which comes under Drama genre."
   ]
  },
  {
   "cell_type": "markdown",
   "id": "3330345c",
   "metadata": {},
   "source": [
    "# Tv shows Age wise"
   ]
  },
  {
   "cell_type": "code",
   "execution_count": 97,
   "id": "332cd08d",
   "metadata": {},
   "outputs": [
    {
     "data": {
      "text/plain": [
       "array([13,  7, 16, 14,  4, 18, 15, 12])"
      ]
     },
     "execution_count": 97,
     "metadata": {},
     "output_type": "execute_result"
    }
   ],
   "source": [
    "tv_shows[\"age_rating\"].unique()"
   ]
  },
  {
   "cell_type": "code",
   "execution_count": 98,
   "id": "155d85fc",
   "metadata": {},
   "outputs": [],
   "source": [
    "tv=tv_shows.groupby(\"age_rating\")"
   ]
  },
  {
   "cell_type": "code",
   "execution_count": 99,
   "id": "2c0b4862",
   "metadata": {},
   "outputs": [],
   "source": [
    "tv_age_4=tv.get_group(4)"
   ]
  },
  {
   "cell_type": "code",
   "execution_count": 100,
   "id": "2acf9202",
   "metadata": {},
   "outputs": [],
   "source": [
    "tv_age_7=tv.get_group(7)"
   ]
  },
  {
   "cell_type": "code",
   "execution_count": 101,
   "id": "21949925",
   "metadata": {},
   "outputs": [],
   "source": [
    "tv_age_12=tv.get_group(12)"
   ]
  },
  {
   "cell_type": "code",
   "execution_count": 102,
   "id": "a1c4fd9e",
   "metadata": {},
   "outputs": [],
   "source": [
    "tv_age_13=tv.get_group(13)"
   ]
  },
  {
   "cell_type": "code",
   "execution_count": 103,
   "id": "2ab8b60d",
   "metadata": {},
   "outputs": [],
   "source": [
    "tv_age_14=tv.get_group(14)"
   ]
  },
  {
   "cell_type": "code",
   "execution_count": 104,
   "id": "a7e2d7fa",
   "metadata": {},
   "outputs": [],
   "source": [
    "tv_age_15=tv.get_group(15)"
   ]
  },
  {
   "cell_type": "code",
   "execution_count": 105,
   "id": "c9c1a61d",
   "metadata": {},
   "outputs": [],
   "source": [
    "tv_age_16=tv.get_group(16)"
   ]
  },
  {
   "cell_type": "code",
   "execution_count": 106,
   "id": "706e0a6b",
   "metadata": {},
   "outputs": [],
   "source": [
    "tv_age_18=tv.get_group(18)"
   ]
  },
  {
   "cell_type": "code",
   "execution_count": 120,
   "id": "01c175cb",
   "metadata": {},
   "outputs": [],
   "source": [
    "tv_age_group_4=tv_age_4[\"genre\"].value_counts()"
   ]
  },
  {
   "cell_type": "code",
   "execution_count": 121,
   "id": "f1252fcd",
   "metadata": {},
   "outputs": [],
   "source": [
    "tv_age_group_7=tv_age_7[\"genre\"].value_counts()"
   ]
  },
  {
   "cell_type": "code",
   "execution_count": 122,
   "id": "5719c374",
   "metadata": {},
   "outputs": [],
   "source": [
    "tv_age_group_12=tv_age_12[\"genre\"].value_counts()"
   ]
  },
  {
   "cell_type": "code",
   "execution_count": 123,
   "id": "a172e0b1",
   "metadata": {},
   "outputs": [],
   "source": [
    "tv_age_group_13=tv_age_13[\"genre\"].value_counts()"
   ]
  },
  {
   "cell_type": "code",
   "execution_count": 124,
   "id": "a5d61299",
   "metadata": {},
   "outputs": [],
   "source": [
    "tv_age_group_14=tv_age_14[\"genre\"].value_counts()"
   ]
  },
  {
   "cell_type": "code",
   "execution_count": 125,
   "id": "ce01aa6a",
   "metadata": {},
   "outputs": [],
   "source": [
    "tv_age_group_15=tv_age_15[\"genre\"].value_counts()"
   ]
  },
  {
   "cell_type": "code",
   "execution_count": 126,
   "id": "360f0d9e",
   "metadata": {},
   "outputs": [],
   "source": [
    "tv_age_group_16=tv_age_16[\"genre\"].value_counts()"
   ]
  },
  {
   "cell_type": "code",
   "execution_count": 127,
   "id": "0eeea708",
   "metadata": {},
   "outputs": [],
   "source": [
    "tv_age_group_18=tv_age_18[\"genre\"].value_counts()"
   ]
  },
  {
   "cell_type": "code",
   "execution_count": 129,
   "id": "0603a0b5",
   "metadata": {},
   "outputs": [
    {
     "data": {
      "image/png": "[encoded data removed]",
      "text/plain": [
       "<Figure size 1080x1080 with 8 Axes>"
      ]
     },
     "metadata": {
      "needs_background": "light"
     },
     "output_type": "display_data"
    }
   ],
   "source": [
    "plt.subplot(4,2,1)\n",
    "tv_age_group_4.plot.barh(figsize=(15,15))\n",
    "plt.title(\"TOTAL NO OF TV SHOWS FOR AGE GROUP OF 4\")\n",
    "\n",
    "plt.subplot(4,2,2)\n",
    "tv_age_group_7.plot.barh(figsize=(15,15))\n",
    "plt.title(\"TOTAL NO OF TV SHOWS FOR AGE GROUP OF 7\")\n",
    "\n",
    "plt.subplot(4,2,3)\n",
    "tv_age_group_12.plot.barh(figsize=(15,15))\n",
    "plt.title(\"TOTAL NO OF TV SHOWS FOR AGE GROUP OF 12\")\n",
    "\n",
    "plt.subplot(4,2,4)\n",
    "tv_age_group_13.plot.barh(figsize=(15,15))\n",
    "plt.title(\"TOTAL NO OF TV SHOWS FOR AGE GROUP OF 13\")\n",
    "\n",
    "plt.subplot(4,2,5)\n",
    "tv_age_group_14.plot.barh(figsize=(15,15))\n",
    "plt.title(\"TOTAL NO OF TV SHOWS FOR AGE GROUP OF 14\")\n",
    "\n",
    "plt.subplot(4,2,6)\n",
    "tv_age_group_15.plot.barh(figsize=(15,15))\n",
    "plt.title(\"TOTAL NO OF TV SHOWS FOR AGE GROUP OF 15\")\n",
    "\n",
    "plt.subplot(4,2,7)\n",
    "tv_age_group_16.plot.barh(figsize=(15,15))\n",
    "plt.title(\"TOTAL NO OF TV SHOWS FOR AGE GROUP OF 16\")\n",
    "\n",
    "plt.subplot(4,2,8)\n",
    "tv_age_group_18.plot.barh(figsize=(15,15))\n",
    "plt.title(\"TOTAL NO OF TV SHOWS FOR AGE GROUP OF 18\")\n",
    "\n",
    "plt.show()"
   ]
  },
  {
   "cell_type": "code",
   "execution_count": null,
   "id": "11b864c0",
   "metadata": {},
   "outputs": [],
   "source": []
  },
  {
   "cell_type": "code",
   "execution_count": null,
   "id": "209fba4c",
   "metadata": {},
   "outputs": [],
   "source": []
  },
  {
   "cell_type": "code",
   "execution_count": null,
   "id": "b5f24f77",
   "metadata": {},
   "outputs": [],
   "source": []
  },
  {
   "cell_type": "code",
   "execution_count": null,
   "id": "9c52f3f8",
   "metadata": {},
   "outputs": [],
   "source": []
  },
  {
   "cell_type": "code",
   "execution_count": null,
   "id": "638e1fe9",
   "metadata": {},
   "outputs": [],
   "source": []
  },
  {
   "cell_type": "code",
   "execution_count": null,
   "id": "b085183b",
   "metadata": {},
   "outputs": [],
   "source": []
  },
  {
   "cell_type": "code",
   "execution_count": null,
   "id": "49739d3e",
   "metadata": {},
   "outputs": [],
   "source": []
  },
  {
   "cell_type": "code",
   "execution_count": null,
   "id": "adb9c4a4",
   "metadata": {},
   "outputs": [],
   "source": []
  },
  {
   "cell_type": "code",
   "execution_count": null,
   "id": "484aa1d1",
   "metadata": {},
   "outputs": [],
   "source": []
  },
  {
   "cell_type": "code",
   "execution_count": null,
   "id": "be9b9648",
   "metadata": {},
   "outputs": [],
   "source": []
  },
  {
   "cell_type": "code",
   "execution_count": null,
   "id": "b5233692",
   "metadata": {},
   "outputs": [],
   "source": []
  },
  {
   "cell_type": "code",
   "execution_count": null,
   "id": "7e7491d9",
   "metadata": {},
   "outputs": [],
   "source": []
  },
  {
   "cell_type": "code",
   "execution_count": null,
   "id": "a874ebf7",
   "metadata": {},
   "outputs": [],
   "source": []
  },
  {
   "cell_type": "code",
   "execution_count": null,
   "id": "401a4071",
   "metadata": {},
   "outputs": [],
   "source": []
  },
  {
   "cell_type": "code",
   "execution_count": null,
   "id": "46cf59d5",
   "metadata": {},
   "outputs": [],
   "source": []
  },
  {
   "cell_type": "code",
   "execution_count": null,
   "id": "8b5a2339",
   "metadata": {},
   "outputs": [],
   "source": []
  },
  {
   "cell_type": "code",
   "execution_count": null,
   "id": "f9e70715",
   "metadata": {},
   "outputs": [],
   "source": []
  },
  {
   "cell_type": "code",
   "execution_count": null,
   "id": "aeed7f03",
   "metadata": {},
   "outputs": [],
   "source": []
  },
  {
   "cell_type": "code",
   "execution_count": null,
   "id": "a0b231fe",
   "metadata": {},
   "outputs": [],
   "source": []
  },
  {
   "cell_type": "code",
   "execution_count": null,
   "id": "051ee445",
   "metadata": {},
   "outputs": [],
   "source": []
  },
  {
   "cell_type": "code",
   "execution_count": null,
   "id": "6219cf25",
   "metadata": {},
   "outputs": [],
   "source": []
  },
  {
   "cell_type": "code",
   "execution_count": null,
   "id": "955e69ae",
   "metadata": {},
   "outputs": [],
   "source": []
  },
  {
   "cell_type": "code",
   "execution_count": null,
   "id": "3b2b7e63",
   "metadata": {},
   "outputs": [],
   "source": []
  },
  {
   "cell_type": "code",
   "execution_count": null,
   "id": "1e8c8137",
   "metadata": {},
   "outputs": [],
   "source": []
  },
  {
   "cell_type": "code",
   "execution_count": null,
   "id": "a49ad740",
   "metadata": {},
   "outputs": [],
   "source": []
  },
  {
   "cell_type": "code",
   "execution_count": null,
   "id": "26623dbc",
   "metadata": {},
   "outputs": [],
   "source": []
  },
  {
   "cell_type": "code",
   "execution_count": null,
   "id": "84f0c0c7",
   "metadata": {},
   "outputs": [],
   "source": []
  },
  {
   "cell_type": "code",
   "execution_count": null,
   "id": "4290e2e3",
   "metadata": {},
   "outputs": [],
   "source": []
  }
 ],
 "metadata": {
  "kernelspec": {
   "display_name": "Python 3 (ipykernel)",
   "language": "python",
   "name": "python3"
  },
  "language_info": {
   "codemirror_mode": {
    "name": "ipython",
    "version": 3
   },
   "file_extension": ".py",
   "mimetype": "text/x-python",
   "name": "python",
   "nbconvert_exporter": "python",
   "pygments_lexer": "ipython3",
   "version": "3.9.7"
  }
 },
 "nbformat": 4,
 "nbformat_minor": 5
}
